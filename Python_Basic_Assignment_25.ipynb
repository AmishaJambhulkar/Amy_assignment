{
 "cells": [
  {
   "cell_type": "code",
   "execution_count": null,
   "id": "1fdcdd2d",
   "metadata": {},
   "outputs": [],
   "source": [
    "#1) . What is the difference between enclosing a list comprehension in square brackets and\n",
    "#  parentheses?\n",
    "\n",
    "# square brackets are use for lists,\n",
    "# and parentheses are use for tuples."
   ]
  },
  {
   "cell_type": "code",
   "execution_count": null,
   "id": "a3a0e005",
   "metadata": {},
   "outputs": [],
   "source": [
    "#2) What is the relationship between generators and iterators?\n",
    "\n",
    "# Iterators are objects that can be iterated on and generators are special functions that leverage lazy evaluation."
   ]
  },
  {
   "cell_type": "code",
   "execution_count": null,
   "id": "6e965164",
   "metadata": {},
   "outputs": [],
   "source": [
    "#3) What are the signs that a function is a generator function?\n",
    "\n",
    "# \"yield\" statement"
   ]
  },
  {
   "cell_type": "code",
   "execution_count": null,
   "id": "51849066",
   "metadata": {},
   "outputs": [],
   "source": [
    "#4) What is the purpose of a yield statement?\n",
    "\n",
    "# yield statement turns a regular function into a generator function and returns a generator object."
   ]
  },
  {
   "cell_type": "code",
   "execution_count": null,
   "id": "137d81d3",
   "metadata": {},
   "outputs": [],
   "source": [
    "#5) What is the relationship between map calls and list comprehensions? Make a comparison and\n",
    "#  contrast between the two.\n",
    "\n",
    "# list comprehension returns a list whereas the map function returns an object of iterable. \n",
    "# list comprehension execution is faster than that of map function when the formula expression is huge and complex\n",
    "# map function is faster than list comprehension when the formula is already defined as a function earlier."
   ]
  }
 ],
 "metadata": {
  "kernelspec": {
   "display_name": "Python 3 (ipykernel)",
   "language": "python",
   "name": "python3"
  },
  "language_info": {
   "codemirror_mode": {
    "name": "ipython",
    "version": 3
   },
   "file_extension": ".py",
   "mimetype": "text/x-python",
   "name": "python",
   "nbconvert_exporter": "python",
   "pygments_lexer": "ipython3",
   "version": "3.9.13"
  }
 },
 "nbformat": 4,
 "nbformat_minor": 5
}
