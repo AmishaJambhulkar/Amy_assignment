{
 "cells": [
  {
   "cell_type": "code",
   "execution_count": null,
   "id": "26860d35",
   "metadata": {},
   "outputs": [],
   "source": [
    "#1. Add the current date to the text file today.txt as a string."
   ]
  },
  {
   "cell_type": "code",
   "execution_count": 3,
   "id": "2636dd4e",
   "metadata": {},
   "outputs": [],
   "source": [
    "from datetime import datetime\n",
    "\n",
    "current_date = datetime.now().strftime(\"%Y-%m-%d %H:%M:%S\")\n",
    "\n",
    "with open('today.txt', 'w') as file:\n",
    "    file.write(current_date)\n"
   ]
  },
  {
   "cell_type": "code",
   "execution_count": null,
   "id": "4bb521de",
   "metadata": {},
   "outputs": [],
   "source": [
    "#2. Read the text file today.txt into the string today_string"
   ]
  },
  {
   "cell_type": "code",
   "execution_count": 4,
   "id": "3259e2b1",
   "metadata": {},
   "outputs": [
    {
     "name": "stdout",
     "output_type": "stream",
     "text": [
      "2023-07-29 20:21:33\n"
     ]
    }
   ],
   "source": [
    "with open('today.txt', 'r') as file:\n",
    "    today_string = file.read()\n",
    "\n",
    "print(today_string)"
   ]
  },
  {
   "cell_type": "code",
   "execution_count": null,
   "id": "76aff6e3",
   "metadata": {},
   "outputs": [],
   "source": [
    "#3. Parse the date from today_string."
   ]
  },
  {
   "cell_type": "code",
   "execution_count": 5,
   "id": "2a466024",
   "metadata": {},
   "outputs": [
    {
     "name": "stdout",
     "output_type": "stream",
     "text": [
      "Parsed date: 2023-07-28 15:30:45\n"
     ]
    }
   ],
   "source": [
    "from datetime import datetime\n",
    "\n",
    "today_string = \"2023-07-28 15:30:45\"\n",
    "\n",
    "parsed_date = datetime.strptime(today_string, \"%Y-%m-%d %H:%M:%S\")\n",
    "\n",
    "print(\"Parsed date:\", parsed_date)\n"
   ]
  },
  {
   "cell_type": "code",
   "execution_count": null,
   "id": "b4a6cd83",
   "metadata": {},
   "outputs": [],
   "source": [
    "#4. List the files in your current directory"
   ]
  },
  {
   "cell_type": "code",
   "execution_count": null,
   "id": "0b17d615",
   "metadata": {},
   "outputs": [],
   "source": [
    "import os\n",
    "\n",
    "# Get the list of files in the current directory\n",
    "files = os.listdir()\n",
    "\n",
    "print(\"Files in the current directory:\")\n",
    "for file in files:\n",
    "    print(file)\n"
   ]
  },
  {
   "cell_type": "code",
   "execution_count": null,
   "id": "40223d43",
   "metadata": {},
   "outputs": [],
   "source": [
    "#5. Create a list of all of the files in your parent directory (minimum five files should be available)."
   ]
  },
  {
   "cell_type": "code",
   "execution_count": null,
   "id": "e0d16da4",
   "metadata": {},
   "outputs": [],
   "source": [
    "import os\n",
    "\n",
    "# Get the current working directory\n",
    "current_directory = os.getcwd()\n",
    "\n",
    "# Get the parent directory\n",
    "parent_directory = os.path.dirname(current_directory)\n",
    "\n",
    "# Get the list of files in the parent directory\n",
    "files_in_parent = os.listdir(parent_directory)\n",
    "\n",
    "print(\"Files in the parent directory:\")\n",
    "for file in files_in_parent:\n",
    "    print(file)\n"
   ]
  },
  {
   "cell_type": "code",
   "execution_count": null,
   "id": "3fc91a07",
   "metadata": {},
   "outputs": [],
   "source": [
    "#6. Use multiprocessing to create three separate processes. Make each one wait a random number of\n",
    "# seconds between one and five, print the current time, and then exit."
   ]
  },
  {
   "cell_type": "code",
   "execution_count": 6,
   "id": "3c353853",
   "metadata": {},
   "outputs": [],
   "source": [
    "import multiprocessing\n",
    "import random\n",
    "import time\n",
    "from datetime import datetime\n",
    "\n",
    "def print_current_time(process_name):\n",
    "    wait_time = random.randint(1, 5)\n",
    "    time.sleep(wait_time)\n",
    "    current_time = datetime.now().strftime(\"%Y-%m-%d %H:%M:%S\")\n",
    "    print(f\"{process_name} - Current Time: {current_time}\")\n",
    "\n",
    "if __name__ == \"__main__\":\n",
    "    processes = []\n",
    "\n",
    "    for i in range(3):\n",
    "        process_name = f\"Process {i+1}\"\n",
    "        process = multiprocessing.Process(target=print_current_time, args=(process_name,))\n",
    "        processes.append(process)\n",
    "        process.start()\n",
    "\n",
    "    for process in processes:\n",
    "        process.join()\n"
   ]
  },
  {
   "cell_type": "code",
   "execution_count": null,
   "id": "af1d1a11",
   "metadata": {},
   "outputs": [],
   "source": [
    "#7. Create a date object of your day of birth."
   ]
  },
  {
   "cell_type": "code",
   "execution_count": 7,
   "id": "eab59245",
   "metadata": {},
   "outputs": [
    {
     "name": "stdout",
     "output_type": "stream",
     "text": [
      "Date of Birth: 2001-03-02\n"
     ]
    }
   ],
   "source": [
    "from datetime import date\n",
    "\n",
    "year_of_birth = 2001\n",
    "month_of_birth = 3\n",
    "day_of_birth = 2\n",
    "\n",
    "birth_date = date(year_of_birth, month_of_birth, day_of_birth)\n",
    "\n",
    "print(\"Date of Birth:\", birth_date)\n"
   ]
  },
  {
   "cell_type": "code",
   "execution_count": 8,
   "id": "9a40b9ab",
   "metadata": {},
   "outputs": [],
   "source": [
    "#8. What day of the week was your day of birth?"
   ]
  },
  {
   "cell_type": "code",
   "execution_count": 9,
   "id": "e6f184de",
   "metadata": {},
   "outputs": [
    {
     "name": "stdout",
     "output_type": "stream",
     "text": [
      "Day of the week of your day of birth: Friday\n"
     ]
    }
   ],
   "source": [
    "from datetime import datetime\n",
    "\n",
    "year_of_birth = 2001\n",
    "month_of_birth = 3\n",
    "day_of_birth = 2\n",
    "\n",
    "birth_date = datetime(year_of_birth, month_of_birth, day_of_birth)\n",
    "\n",
    "day_of_week = birth_date.strftime(\"%A\")\n",
    "\n",
    "print(\"Day of the week of your day of birth:\", day_of_week)\n"
   ]
  },
  {
   "cell_type": "code",
   "execution_count": null,
   "id": "819f96e6",
   "metadata": {},
   "outputs": [],
   "source": [
    "#9. When will you be (or when were you) 10,000 days old?"
   ]
  },
  {
   "cell_type": "code",
   "execution_count": 10,
   "id": "83e39f63",
   "metadata": {},
   "outputs": [
    {
     "name": "stdout",
     "output_type": "stream",
     "text": [
      "When the person will be (or was) 10,000 days old: 2028-07-18\n"
     ]
    }
   ],
   "source": [
    "from datetime import datetime, timedelta\n",
    "\n",
    "year_of_birth = 2001\n",
    "month_of_birth = 3\n",
    "day_of_birth = 2\n",
    "\n",
    "birth_date = datetime(year_of_birth, month_of_birth, day_of_birth)\n",
    "\n",
    "ten_thousand_days_old_date = birth_date + timedelta(days=10000)\n",
    "\n",
    "print(\"When the person will be (or was) 10,000 days old:\", ten_thousand_days_old_date.strftime(\"%Y-%m-%d\"))\n"
   ]
  }
 ],
 "metadata": {
  "kernelspec": {
   "display_name": "Python 3 (ipykernel)",
   "language": "python",
   "name": "python3"
  },
  "language_info": {
   "codemirror_mode": {
    "name": "ipython",
    "version": 3
   },
   "file_extension": ".py",
   "mimetype": "text/x-python",
   "name": "python",
   "nbconvert_exporter": "python",
   "pygments_lexer": "ipython3",
   "version": "3.9.13"
  }
 },
 "nbformat": 4,
 "nbformat_minor": 5
}
