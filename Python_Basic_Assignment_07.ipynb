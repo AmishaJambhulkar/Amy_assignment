{
 "cells": [
  {
   "cell_type": "code",
   "execution_count": null,
   "id": "e8d39a4c",
   "metadata": {},
   "outputs": [],
   "source": [
    "# 1. What is the name of the feature responsible for generating Regex objects?\n",
    "\n",
    "re.compile()"
   ]
  },
  {
   "cell_type": "code",
   "execution_count": null,
   "id": "6ab2fd4c",
   "metadata": {},
   "outputs": [],
   "source": [
    "# 2. Why do raw strings often appear in Regex objects?\n",
    "\n",
    "raw strings oftenly appeared or used so that backslashes do not have to be escaped."
   ]
  },
  {
   "cell_type": "code",
   "execution_count": null,
   "id": "9e028050",
   "metadata": {},
   "outputs": [],
   "source": [
    "# 3. What is the return value of the search() method?\n",
    "\n",
    "it searches whar and returns a match value if found else it returns none."
   ]
  },
  {
   "cell_type": "code",
   "execution_count": null,
   "id": "65dfe2e7",
   "metadata": {},
   "outputs": [],
   "source": [
    "# 4. From a Match item, how do you get the actual strings that match the pattern?\n",
    "\n",
    "group() method returns matching objects"
   ]
  },
  {
   "cell_type": "code",
   "execution_count": null,
   "id": "867be598",
   "metadata": {},
   "outputs": [],
   "source": [
    "# 5. In the regex which created from the r'(\\d\\d\\d)-(\\d\\d\\d-\\d\\d\\d\\d)', what does group zero cover?\n",
    "# Group 2? Group 1?\n",
    "\n",
    "group 0 is the entire match\n",
    "group 1 covers the first set of parentheses\n",
    "group 2 covers the second set of parentheses"
   ]
  },
  {
   "cell_type": "code",
   "execution_count": null,
   "id": "a17bcaf9",
   "metadata": {},
   "outputs": [],
   "source": [
    "# 6. In standard expression syntax, parentheses and intervals have distinct meanings. How can you tell\n",
    "# a regex that you want it to fit real parentheses and periods?\n",
    "\n",
    "periods and parentheses can be escaped with a backslash \\., \\ (, and \\)"
   ]
  },
  {
   "cell_type": "code",
   "execution_count": null,
   "id": "4059b694",
   "metadata": {},
   "outputs": [],
   "source": [
    "# 7. The findall() method returns a string list or a list of string tuples. What causes it to return one of\n",
    "# the two options?\n",
    "\n",
    "If the pattern has one capturing group, the findall() function returns a list of strings that match the group.\n",
    "If the pattern has multiple capturing groups, the findall() function returns the tuples of strings that match the groups."
   ]
  },
  {
   "cell_type": "code",
   "execution_count": null,
   "id": "c232fc18",
   "metadata": {},
   "outputs": [],
   "source": [
    "# 8. In standard expressions, what does the | character mean?\n",
    "\n",
    "The | operator is defined by default on integer types and set types. \n",
    "If two operands are integers then it will perform bitwise or , which is a mathematical operation.\n",
    "and if two operands are set types then operator will return union of two sets."
   ]
  },
  {
   "cell_type": "code",
   "execution_count": null,
   "id": "a5d2e08a",
   "metadata": {},
   "outputs": [],
   "source": [
    "# 9. In regular expressions, what does the character stand for?\n",
    "\n",
    "All characters, except those having special meaning in regex, matches themselves. \n",
    "The character class is the basic regex concept after a literal match it makes small sequence of characters match a larger set of characters."
   ]
  },
  {
   "cell_type": "code",
   "execution_count": null,
   "id": "19abb0c4",
   "metadata": {},
   "outputs": [],
   "source": [
    "# 10.In regular expressions, what is the difference between the + and * characters?\n",
    "\n",
    "The star quantifier(*) means that the preceding expression can match zero or more times.\n",
    "The plus quantifier(+) means that the preceding expression must match at least one timeor multiple times."
   ]
  },
  {
   "cell_type": "code",
   "execution_count": null,
   "id": "05ef3050",
   "metadata": {},
   "outputs": [],
   "source": [
    "# 11. What is the difference between {4} and {4,5} in regular expression?\n",
    "\n",
    "{4} is an exact number of characters\n",
    "{4,5} is a range of number of characters {minimum,maximum}"
   ]
  },
  {
   "cell_type": "code",
   "execution_count": null,
   "id": "6998c05d",
   "metadata": {},
   "outputs": [],
   "source": [
    "# 12. What do you mean by the \\d, \\w, and \\s shorthand character classes signify in regular expressions?\n",
    "\n",
    "\\d - digit\n",
    "\\w - word character \n",
    "\\s - whitespace"
   ]
  },
  {
   "cell_type": "code",
   "execution_count": null,
   "id": "37abb36e",
   "metadata": {},
   "outputs": [],
   "source": [
    "# 13. What do means by \\D, \\W, and \\S shorthand character classes signify in regular expressions?\n",
    "\n",
    "\\D - not a digit \n",
    "\\W - not a word character \n",
    "\\S - not a whitespace"
   ]
  },
  {
   "cell_type": "code",
   "execution_count": null,
   "id": "2a1b0bbd",
   "metadata": {},
   "outputs": [],
   "source": [
    "# 14. What is the difference between .*? and .*?\n",
    "\n",
    ".* - 0 or more characters to account for the optional closing parenthesis, hyphen and space characters.\n",
    ".* - 0 or more characters to account for the optional hyphen and space character."
   ]
  },
  {
   "cell_type": "code",
   "execution_count": null,
   "id": "8fa0e880",
   "metadata": {},
   "outputs": [],
   "source": [
    "# 15. What is the syntax for matching both numbers and lowercase letters with a character class?\n",
    "\n",
    "ranges of letters or numbers by using a hyphen.\n",
    "[0-9][a-z]"
   ]
  },
  {
   "cell_type": "code",
   "execution_count": null,
   "id": "adcb1404",
   "metadata": {},
   "outputs": [],
   "source": [
    "# 16. What is the procedure for making a normal expression in regax case insensitive?\n",
    "\n",
    "IGNORECASE : this flag allows for case insensitive. "
   ]
  },
  {
   "cell_type": "code",
   "execution_count": null,
   "id": "3ef27620",
   "metadata": {},
   "outputs": [],
   "source": [
    "# 17. What does the . character normally match? What does it match if re.DOTALL is passed as 2nd\n",
    "# argument in re.compile()?\n",
    "\n",
    ". character normally matches any character except the newline character\n",
    "if re.DOTALL is passed as the second argument to re.compile(), then the dot will also match newline characters."
   ]
  },
  {
   "cell_type": "code",
   "execution_count": null,
   "id": "0d935946",
   "metadata": {},
   "outputs": [],
   "source": [
    "# 18. If numReg = re.compile(r'\\d+'), what will numRegex.sub('X', '11 drummers, 10 pipers, five rings, 4 hen') return?\n",
    "\n",
    "X drummers, X pipers, five rings, X hens"
   ]
  },
  {
   "cell_type": "code",
   "execution_count": null,
   "id": "f1206fe5",
   "metadata": {},
   "outputs": [],
   "source": [
    "# 19. What does passing re.VERBOSE as the 2nd argument to re.compile() allow to do?\n",
    "\n",
    "To ignore whitespace and comments inside the regular expression string."
   ]
  },
  {
   "cell_type": "code",
   "execution_count": null,
   "id": "e1f9d5ee",
   "metadata": {},
   "outputs": [],
   "source": [
    "# 20. How would you write a regex that match a number with comma for every three digits? It must\n",
    "# match the given following:\n",
    "\n",
    "'42'\n",
    "'1,234'\n",
    "'6,368,745'\n",
    "but not the following:\n",
    "'12,34,567' (which has only two digits between the commas)\n",
    "'1234' (which lacks commas)"
   ]
  },
  {
   "cell_type": "code",
   "execution_count": null,
   "id": "77f34639",
   "metadata": {},
   "outputs": [],
   "source": [
    "numCommas = re.compile(r'(^\\d{1,3})(,\\d{3})*$') numCommas.search('12,34,567').group()"
   ]
  },
  {
   "cell_type": "code",
   "execution_count": null,
   "id": "ec3c011d",
   "metadata": {},
   "outputs": [],
   "source": [
    "# 21. How would you write a regex that matches the full name of someone whose last name is\n",
    "# Watanabe? You can assume that the first name that comes before it will always be one word that\n",
    "# begins with a capital letter. The regex must match the following:\n",
    "\n",
    "'Haruto Watanabe'\n",
    "'Alice Watanabe'\n",
    "'RoboCop Watanabe'\n",
    "but not the following:\n",
    "'haruto Watanabe' (where the first name is not capitalized)\n",
    "'Mr. Watanabe' (where the preceding word has a nonletter character)\n",
    "'Watanabe' (which has no first name)\n",
    "'Haruto watanabe' (where Watanabe is not capitalized)"
   ]
  },
  {
   "cell_type": "code",
   "execution_count": null,
   "id": "e38dbdb4",
   "metadata": {},
   "outputs": [],
   "source": [
    "fullName = re.compile(r'[A-Z]\\w [A-Z]\\w') mo = fullName.findall('Haruto Watanabe, haruto Watanabe, Alice Watanabe, Watanabe, Haruto watanabe, Robocop Watanabe')mo.group()"
   ]
  },
  {
   "cell_type": "code",
   "execution_count": null,
   "id": "23a9c1ae",
   "metadata": {},
   "outputs": [],
   "source": [
    "# 22. How would you write a regex that matches a sentence where the first word is either Alice, Bob,\n",
    "# or Carol; the second word is either eats, pets, or throws; the third word is apples, cats, or baseballs;\n",
    "# and the sentence ends with a period? This regex should be case-insensitive. It must match the following:\n",
    "\n",
    "'Alice eats apples.'\n",
    "'Bob pets cats.'\n",
    "'Carol throws baseballs.'\n",
    "'Alice throws Apples'.\n",
    "'BOB EATS CATS.'\n",
    "but not the following:\n",
    "'RoboCop eats apples.'\n",
    "'ALICE THROWS FOOTBALLS.'\n",
    "'Carol eats 7 cats.'"
   ]
  },
  {
   "cell_type": "code",
   "execution_count": null,
   "id": "5561ecd5",
   "metadata": {},
   "outputs": [],
   "source": [
    "senRegex = re.compile(r'(Alice|Bob|Carol)\\s(eats|pets|throws)\\s(apples|cats|baseballs).', re.I|re.DOTALL)\n",
    "\n",
    "senRegex.findall('''Alice eats apples.'\n",
    "'Bob pets cats.'\n",
    "'Carol throws baseballs.'\n",
    "'Alice throws Apples.'\n",
    "'BOB EATS CATS.'\n",
    "but not the following:\n",
    "'Robocop eats apples.'\n",
    "'ALICE THROWS FOOTBALLS.'\n",
    "'Carol eats 7 cats.''')\n",
    "\n",
    "Test result: [('Alice', 'eats', 'apples'), ('Bob', 'pets', 'cats'),('Carol', 'throws', 'baseballs'), ('Alice', 'throws', 'Apples'), ('BOB', 'EATS', 'CATS')]"
   ]
  }
 ],
 "metadata": {
  "kernelspec": {
   "display_name": "Python 3 (ipykernel)",
   "language": "python",
   "name": "python3"
  },
  "language_info": {
   "codemirror_mode": {
    "name": "ipython",
    "version": 3
   },
   "file_extension": ".py",
   "mimetype": "text/x-python",
   "name": "python",
   "nbconvert_exporter": "python",
   "pygments_lexer": "ipython3",
   "version": "3.9.13"
  }
 },
 "nbformat": 4,
 "nbformat_minor": 5
}
