{
 "cells": [
  {
   "cell_type": "code",
   "execution_count": null,
   "id": "56fc03ab",
   "metadata": {},
   "outputs": [],
   "source": [
    "#1. Write a Python program to print \"Hello Python\"?"
   ]
  },
  {
   "cell_type": "code",
   "execution_count": 1,
   "id": "e45c2fc0",
   "metadata": {},
   "outputs": [
    {
     "name": "stdout",
     "output_type": "stream",
     "text": [
      "Hello Python\n"
     ]
    }
   ],
   "source": [
    "print(\"Hello Python\")"
   ]
  },
  {
   "cell_type": "code",
   "execution_count": null,
   "id": "5598a792",
   "metadata": {},
   "outputs": [],
   "source": [
    "#2. Write a Python program to do arithmetical operations addition and division.?"
   ]
  },
  {
   "cell_type": "code",
   "execution_count": 2,
   "id": "56c30a06",
   "metadata": {},
   "outputs": [
    {
     "name": "stdout",
     "output_type": "stream",
     "text": [
      "The addition of 45 and 9 is 54\n",
      "The division of 45 and 9 is 5.0\n"
     ]
    }
   ],
   "source": [
    "#you can take user input by using-\n",
    "#e.g.: a = int(input(\"enter the number: \"))\n",
    "\n",
    "a = 45\n",
    "b = 9\n",
    "print(\"The addition of\", a, \"and\", b, \"is\", a+b)\n",
    "print(\"The division of\", a, \"and\", b, \"is\", a/b)"
   ]
  },
  {
   "cell_type": "code",
   "execution_count": null,
   "id": "56f99361",
   "metadata": {},
   "outputs": [],
   "source": [
    "#3. Write a Python program to find the area of a triangle?"
   ]
  },
  {
   "cell_type": "code",
   "execution_count": 1,
   "id": "8d0cb268",
   "metadata": {},
   "outputs": [
    {
     "name": "stdout",
     "output_type": "stream",
     "text": [
      "Area of triangle =40.0\n"
     ]
    }
   ],
   "source": [
    "#you can take user input by using-\n",
    "#e.g.: a = int(input(\"enter the value of base: \"))\n",
    "\n",
    "base = 8\n",
    "height = 10\n",
    "area_of_triangle = (1/2)*base*height\n",
    "\n",
    "print(\"Area of triangle =\" +str(area_of_triangle))"
   ]
  },
  {
   "cell_type": "code",
   "execution_count": null,
   "id": "f7738c87",
   "metadata": {},
   "outputs": [],
   "source": [
    "#4. Write a Python program to swap two variables?"
   ]
  },
  {
   "cell_type": "code",
   "execution_count": 2,
   "id": "e3c5826a",
   "metadata": {},
   "outputs": [
    {
     "name": "stdout",
     "output_type": "stream",
     "text": [
      "Swapping u:11\n",
      "Swapping v:9\n"
     ]
    }
   ],
   "source": [
    "#you can take user input by using-\n",
    "#e.g.: a = int(input(\"enter the value of variable: \"))\n",
    "\n",
    "u = 9\n",
    "v = 11\n",
    "\n",
    "temp = u\n",
    "u = v\n",
    "v = temp\n",
    "\n",
    "print (\"Swapping u:{}\".format(u))\n",
    "print (\"Swapping v:{}\".format(v))"
   ]
  },
  {
   "cell_type": "code",
   "execution_count": null,
   "id": "1e40074d",
   "metadata": {},
   "outputs": [],
   "source": [
    "#5. Write a Python program to generate a random number?"
   ]
  },
  {
   "cell_type": "code",
   "execution_count": 3,
   "id": "f8437ebd",
   "metadata": {},
   "outputs": [
    {
     "name": "stdout",
     "output_type": "stream",
     "text": [
      "1\n"
     ]
    }
   ],
   "source": [
    "import random\n",
    "print(random.randint(0,9))"
   ]
  }
 ],
 "metadata": {
  "kernelspec": {
   "display_name": "Python 3 (ipykernel)",
   "language": "python",
   "name": "python3"
  },
  "language_info": {
   "codemirror_mode": {
    "name": "ipython",
    "version": 3
   },
   "file_extension": ".py",
   "mimetype": "text/x-python",
   "name": "python",
   "nbconvert_exporter": "python",
   "pygments_lexer": "ipython3",
   "version": "3.9.13"
  }
 },
 "nbformat": 4,
 "nbformat_minor": 5
}
