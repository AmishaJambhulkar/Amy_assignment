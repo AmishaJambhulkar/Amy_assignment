{
 "cells": [
  {
   "cell_type": "code",
   "execution_count": null,
   "id": "12295560",
   "metadata": {},
   "outputs": [],
   "source": [
    "#1. What is the relationship between def statements and lambda expressions ?\n",
    "\n",
    "# The def defined functions do not return anything if not explicitly returned whereas the lambda  function does return an object."
   ]
  },
  {
   "cell_type": "code",
   "execution_count": 1,
   "id": "00d4f809",
   "metadata": {},
   "outputs": [],
   "source": [
    "def add(a, b):\n",
    "    return a + b\n"
   ]
  },
  {
   "cell_type": "code",
   "execution_count": null,
   "id": "5da9083a",
   "metadata": {},
   "outputs": [],
   "source": [
    "#2. What is the benefit of lambda?"
   ]
  },
  {
   "cell_type": "code",
   "execution_count": null,
   "id": "2fa5eed1",
   "metadata": {},
   "outputs": [],
   "source": [
    "# Lambda helps to use a function only once and because of the it avoids clutter and it can define a function in a single line."
   ]
  },
  {
   "cell_type": "code",
   "execution_count": null,
   "id": "119c44f1",
   "metadata": {},
   "outputs": [],
   "source": [
    "#3. Compare and contrast map, filter, and reduce."
   ]
  },
  {
   "cell_type": "code",
   "execution_count": null,
   "id": "2152180f",
   "metadata": {},
   "outputs": [],
   "source": [
    "#`map` applies a function to each item in an iterable and returns a new iterable. `filter` selects items based on a condition\n",
    "# and returns a filtered iterable. `reduce` combines items cumulatively to produce a single result."
   ]
  },
  {
   "cell_type": "code",
   "execution_count": null,
   "id": "3c24df01",
   "metadata": {},
   "outputs": [],
   "source": [
    "#4. What are function annotations, and how are they used?"
   ]
  },
  {
   "cell_type": "code",
   "execution_count": null,
   "id": "ca33ef89",
   "metadata": {},
   "outputs": [],
   "source": [
    "def my_function(param1: type1, param2: type2) -> return_type:\n",
    "\n",
    "def add_numbers(a: int, b: int) -> int:\n",
    "    return a + b\n",
    "\n",
    "print(add_numbers.__annotations__)\n",
    "# Output: {'a': <class 'int'>, 'b': <class 'int'>, 'return': <class 'int'>}\n"
   ]
  },
  {
   "cell_type": "code",
   "execution_count": null,
   "id": "3b4c00cb",
   "metadata": {},
   "outputs": [],
   "source": [
    "#5. What are recursive functions, and how are they used?"
   ]
  },
  {
   "cell_type": "code",
   "execution_count": 4,
   "id": "d438267b",
   "metadata": {},
   "outputs": [],
   "source": [
    "def factorial(n):\n",
    "    return 1 if n == 0 else n * factorial(n - 1)\n"
   ]
  },
  {
   "cell_type": "code",
   "execution_count": null,
   "id": "c86544f4",
   "metadata": {},
   "outputs": [],
   "source": [
    "#6. What are some general design guidelines for coding functions?"
   ]
  },
  {
   "cell_type": "code",
   "execution_count": null,
   "id": "419cdbb6",
   "metadata": {},
   "outputs": [],
   "source": [
    "def add(a: int, b: int) -> int:\n",
    "    return a + b\n"
   ]
  },
  {
   "cell_type": "code",
   "execution_count": null,
   "id": "a29bdc36",
   "metadata": {},
   "outputs": [],
   "source": [
    "#7. Name three or more ways that functions can communicate results to a caller."
   ]
  },
  {
   "cell_type": "code",
   "execution_count": 5,
   "id": "6f534ee6",
   "metadata": {},
   "outputs": [
    {
     "name": "stdout",
     "output_type": "stream",
     "text": [
      "8\n"
     ]
    }
   ],
   "source": [
    "def add(a, b):\n",
    "    return a + b\n",
    "\n",
    "result = add(3, 5)  \n",
    "print(result)      \n"
   ]
  },
  {
   "cell_type": "code",
   "execution_count": 6,
   "id": "90644996",
   "metadata": {},
   "outputs": [
    {
     "name": "stdout",
     "output_type": "stream",
     "text": [
      "[1, 2, 3, 4]\n"
     ]
    }
   ],
   "source": [
    "def append_to_list(lst, value):\n",
    "    lst.append(value)  \n",
    "\n",
    "my_list = [1, 2, 3]\n",
    "append_to_list(my_list, 4)\n",
    "print(my_list)       \n"
   ]
  },
  {
   "cell_type": "code",
   "execution_count": 7,
   "id": "3e6ad6bc",
   "metadata": {},
   "outputs": [
    {
     "name": "stdout",
     "output_type": "stream",
     "text": [
      "15\n"
     ]
    }
   ],
   "source": [
    "global_var = 10\n",
    "\n",
    "def update_global():\n",
    "    global global_var\n",
    "    global_var += 5   \n",
    "\n",
    "update_global()\n",
    "print(global_var)    \n"
   ]
  },
  {
   "cell_type": "code",
   "execution_count": 8,
   "id": "fd9e334a",
   "metadata": {},
   "outputs": [
    {
     "name": "stdout",
     "output_type": "stream",
     "text": [
      "1\n",
      "2\n",
      "3\n",
      "4\n",
      "5\n"
     ]
    }
   ],
   "source": [
    "def count_up_to(n):\n",
    "    for i in range(1, n + 1):\n",
    "        yield i         \n",
    "\n",
    "for num in count_up_to(5):\n",
    "    print(num)         \n"
   ]
  }
 ],
 "metadata": {
  "kernelspec": {
   "display_name": "Python 3 (ipykernel)",
   "language": "python",
   "name": "python3"
  },
  "language_info": {
   "codemirror_mode": {
    "name": "ipython",
    "version": 3
   },
   "file_extension": ".py",
   "mimetype": "text/x-python",
   "name": "python",
   "nbconvert_exporter": "python",
   "pygments_lexer": "ipython3",
   "version": "3.9.13"
  }
 },
 "nbformat": 4,
 "nbformat_minor": 5
}
