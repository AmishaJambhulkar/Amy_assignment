{
 "cells": [
  {
   "cell_type": "code",
   "execution_count": null,
   "id": "3d6689a5",
   "metadata": {},
   "outputs": [],
   "source": [
    "# 1.Why are functions advantageous to have in your programs?\n",
    " \n",
    "We can avoid rewriting the same code again and again in a program.\n",
    "In a single program we can call this fuction multiple times and it make task easy to us.\n",
    "The fuction can be reused in program as well as can share and used by other programmers."
   ]
  },
  {
   "cell_type": "code",
   "execution_count": null,
   "id": "5b5e4c5c",
   "metadata": {},
   "outputs": [],
   "source": [
    "# 2.When does the code in a fuction run: when it's specified or when it's called?\n",
    "\n",
    "# when the function it's called."
   ]
  },
  {
   "cell_type": "code",
   "execution_count": null,
   "id": "9c62f7f1",
   "metadata": {},
   "outputs": [],
   "source": [
    "# 3.What statement creates a function?\n",
    "\n",
    "def keyword is a statement for defining a function.\n",
    "e.g.: def name ():\n",
    "        return ___"
   ]
  },
  {
   "cell_type": "code",
   "execution_count": null,
   "id": "3026ebe5",
   "metadata": {},
   "outputs": [],
   "source": [
    "# 4.What is the difference between a function and a function call?\n",
    "\n",
    "A function is nothing but just a set of statements which is written as a block to perform a task.\n",
    "function code can write once.\n",
    "\n",
    "A function call is the code used to pass control to a function.\n",
    "and we reused this function using function call."
   ]
  },
  {
   "cell_type": "code",
   "execution_count": null,
   "id": "40ca5588",
   "metadata": {},
   "outputs": [],
   "source": [
    "# 5.How many global scopes are there in a Python program? How many local scopes?\n",
    "\n",
    "There's only one 'global scope' and one 'local scope' in a Python program."
   ]
  },
  {
   "cell_type": "code",
   "execution_count": null,
   "id": "5757240b",
   "metadata": {},
   "outputs": [],
   "source": [
    "# 6.What happens to variables in a local scope when the function call returns?\n",
    "\n",
    "when the function call returns then the local variables are destroyed."
   ]
  },
  {
   "cell_type": "code",
   "execution_count": null,
   "id": "ce155a02",
   "metadata": {},
   "outputs": [],
   "source": [
    "# 7.What is the concept of a return value? Is it possible to have a return value in an expression?\n",
    "\n",
    "A return statement is used to end the execution of the function call and returns result,\n",
    "if the return statement is without any expression then the value none is returned."
   ]
  },
  {
   "cell_type": "code",
   "execution_count": null,
   "id": "402ea584",
   "metadata": {},
   "outputs": [],
   "source": [
    "# 8.If a function does not have a return statement, what is the return value of a call to that function?\n",
    "\n",
    "after executing without return statement it gives a default return value as a result."
   ]
  },
  {
   "cell_type": "code",
   "execution_count": null,
   "id": "bba31ea8",
   "metadata": {},
   "outputs": [],
   "source": [
    "# 9.How do you make a function variable refer to the global variable?\n",
    "\n",
    "by using global keyword"
   ]
  },
  {
   "cell_type": "code",
   "execution_count": null,
   "id": "f4db3cb2",
   "metadata": {},
   "outputs": [],
   "source": [
    "# 10.What is the data type of None?\n",
    "\n",
    "None type"
   ]
  },
  {
   "cell_type": "code",
   "execution_count": null,
   "id": "66394284",
   "metadata": {},
   "outputs": [],
   "source": [
    "# 11.What does the sentence import areallyourpetsnamederic do?\n",
    "\n",
    "import provide a liabrary or a module areallyourpetsnamederic"
   ]
  },
  {
   "cell_type": "code",
   "execution_count": null,
   "id": "e76829b1",
   "metadata": {},
   "outputs": [],
   "source": [
    "# 12.If you had a bacon() feature in a spam module, what would you call it after importing spam?\n",
    "\n",
    "spam.bacon()"
   ]
  },
  {
   "cell_type": "code",
   "execution_count": null,
   "id": "1e7478a2",
   "metadata": {},
   "outputs": [],
   "source": [
    "# 13.What can you do to save a programme from crashing if it encounters an error?\n",
    "\n",
    "we use the try and except statements to handle an errors and exit from the process that caused error."
   ]
  },
  {
   "cell_type": "code",
   "execution_count": null,
   "id": "da959251",
   "metadata": {},
   "outputs": [],
   "source": [
    "# 14.What is the purpose of the try clause? What is the purpose of the except clause?\n",
    "\n",
    "Try and except clause are used to catch and handle exceptions.\n",
    "the try clause lets you test a code until exception is encountered and except clause handle the error."
   ]
  }
 ],
 "metadata": {
  "kernelspec": {
   "display_name": "Python 3 (ipykernel)",
   "language": "python",
   "name": "python3"
  },
  "language_info": {
   "codemirror_mode": {
    "name": "ipython",
    "version": 3
   },
   "file_extension": ".py",
   "mimetype": "text/x-python",
   "name": "python",
   "nbconvert_exporter": "python",
   "pygments_lexer": "ipython3",
   "version": "3.9.13"
  }
 },
 "nbformat": 4,
 "nbformat_minor": 5
}
