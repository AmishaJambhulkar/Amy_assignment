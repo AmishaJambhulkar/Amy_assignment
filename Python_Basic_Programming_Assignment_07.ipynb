{
 "cells": [
  {
   "cell_type": "code",
   "execution_count": null,
   "id": "4e0e164e",
   "metadata": {},
   "outputs": [],
   "source": [
    "#1. Write a Python Program to find sum of array?"
   ]
  },
  {
   "cell_type": "code",
   "execution_count": 5,
   "id": "45dc7df4",
   "metadata": {},
   "outputs": [
    {
     "name": "stdout",
     "output_type": "stream",
     "text": [
      "Enter the array elements separated by spaces: 5 7\n",
      "The sum of the array elements is 12\n"
     ]
    }
   ],
   "source": [
    "arr = input(\"Enter the array elements separated by spaces: \").split()\n",
    "\n",
    "arr = [int(num) for num in arr]\n",
    "\n",
    "sum_of_array = sum(arr)\n",
    "\n",
    "print(f\"The sum of the array elements is {sum_of_array}\")\n"
   ]
  },
  {
   "cell_type": "code",
   "execution_count": null,
   "id": "87a6c92d",
   "metadata": {},
   "outputs": [],
   "source": [
    "#2. Write a Python Program to find largest element in an array?"
   ]
  },
  {
   "cell_type": "code",
   "execution_count": 4,
   "id": "40f90ff0",
   "metadata": {},
   "outputs": [
    {
     "name": "stdout",
     "output_type": "stream",
     "text": [
      "Enter the array elements separated by spaces: 5 7\n",
      "The largest element in the array is 7\n"
     ]
    }
   ],
   "source": [
    "arr = input(\"Enter the array elements separated by spaces: \").split()\n",
    "\n",
    "arr = [int(num) for num in arr]\n",
    "\n",
    "largest_element = max(arr)\n",
    "\n",
    "print(f\"The largest element in the array is {largest_element}\")\n"
   ]
  },
  {
   "cell_type": "code",
   "execution_count": null,
   "id": "63ae0fdd",
   "metadata": {},
   "outputs": [],
   "source": [
    "#3. Write a Python Program for array rotation?"
   ]
  },
  {
   "cell_type": "code",
   "execution_count": 7,
   "id": "8d50a8ed",
   "metadata": {},
   "outputs": [
    {
     "name": "stdout",
     "output_type": "stream",
     "text": [
      "Enter the array elements separated by spaces: 5 7\n",
      "Enter the number of positions to rotate: 1\n",
      "Array after rotation: [7, 5]\n"
     ]
    }
   ],
   "source": [
    "def rotate_array_left(arr, positions):\n",
    "    positions %= len(arr)\n",
    "    return arr[positions:] + arr[:positions]\n",
    "\n",
    "arr = input(\"Enter the array elements separated by spaces: \").split()\n",
    "\n",
    "arr = [int(num) for num in arr]\n",
    "\n",
    "positions = int(input(\"Enter the number of positions to rotate: \"))\n",
    "\n",
    "rotated_array = rotate_array_left(arr, positions)\n",
    "\n",
    "print(\"Array after rotation:\", rotated_array)\n"
   ]
  },
  {
   "cell_type": "code",
   "execution_count": null,
   "id": "32163b77",
   "metadata": {},
   "outputs": [],
   "source": [
    "#4. Write a Python Program to Split the array and add the first part to the end?"
   ]
  },
  {
   "cell_type": "code",
   "execution_count": 8,
   "id": "56d36b71",
   "metadata": {},
   "outputs": [
    {
     "name": "stdout",
     "output_type": "stream",
     "text": [
      "Enter the array elements separated by spaces: 5 7\n",
      "Enter the index to split the array: 1\n",
      "Array after splitting and adding: [7, 5]\n"
     ]
    }
   ],
   "source": [
    "def split_and_add(arr, split_index):\n",
    "    return arr[split_index:] + arr[:split_index]\n",
    "\n",
    "arr = input(\"Enter the array elements separated by spaces: \").split()\n",
    "\n",
    "arr = [int(num) for num in arr]\n",
    "\n",
    "split_index = int(input(\"Enter the index to split the array: \"))\n",
    "\n",
    "modified_array = split_and_add(arr, split_index)\n",
    "\n",
    "print(\"Array after splitting and adding:\", modified_array)\n"
   ]
  },
  {
   "cell_type": "code",
   "execution_count": null,
   "id": "01262d53",
   "metadata": {},
   "outputs": [],
   "source": [
    "#5. Write a Python Program to check if given array is Monotonic?"
   ]
  },
  {
   "cell_type": "code",
   "execution_count": 9,
   "id": "1e2f5c95",
   "metadata": {},
   "outputs": [
    {
     "name": "stdout",
     "output_type": "stream",
     "text": [
      "Enter the array elements separated by spaces: 5 7\n",
      "The array is monotonic.\n"
     ]
    }
   ],
   "source": [
    "def is_monotonic(arr):\n",
    "    increasing = decreasing = True\n",
    "\n",
    "    for i in range(1, len(arr)):\n",
    "        if arr[i] > arr[i - 1]:\n",
    "            decreasing = False\n",
    "        elif arr[i] < arr[i - 1]:\n",
    "            increasing = False\n",
    "\n",
    "    return increasing or decreasing\n",
    "\n",
    "arr = input(\"Enter the array elements separated by spaces: \").split()\n",
    "\n",
    "arr = [int(num) for num in arr]\n",
    "\n",
    "if is_monotonic(arr):\n",
    "    print(\"The array is monotonic.\")\n",
    "else:\n",
    "    print(\"The array is not monotonic.\")\n"
   ]
  }
 ],
 "metadata": {
  "kernelspec": {
   "display_name": "Python 3 (ipykernel)",
   "language": "python",
   "name": "python3"
  },
  "language_info": {
   "codemirror_mode": {
    "name": "ipython",
    "version": 3
   },
   "file_extension": ".py",
   "mimetype": "text/x-python",
   "name": "python",
   "nbconvert_exporter": "python",
   "pygments_lexer": "ipython3",
   "version": "3.9.13"
  }
 },
 "nbformat": 4,
 "nbformat_minor": 5
}
