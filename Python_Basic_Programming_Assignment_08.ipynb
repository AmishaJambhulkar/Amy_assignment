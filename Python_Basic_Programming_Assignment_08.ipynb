{
 "cells": [
  {
   "cell_type": "code",
   "execution_count": null,
   "id": "f55303ea",
   "metadata": {},
   "outputs": [],
   "source": [
    "#1. Write a Python Program to Add Two Matrices?"
   ]
  },
  {
   "cell_type": "code",
   "execution_count": null,
   "id": "e7d35467",
   "metadata": {},
   "outputs": [],
   "source": [
    "def add_matrices(matrix1, matrix2):\n",
    "    result = []\n",
    "    for i in range(len(matrix1)):\n",
    "        row = []\n",
    "        for j in range(len(matrix1[0])):\n",
    "            row.append(matrix1[i][j] + matrix2[i][j])\n",
    "        result.append(row)\n",
    "    return result\n",
    "\n",
    "rows = int(input(\"Enter the number of rows: \"))\n",
    "cols = int(input(\"Enter the number of columns: \"))\n",
    "\n",
    "print(\"Enter the elements of the first matrix:\")\n",
    "matrix1 = []\n",
    "for i in range(rows):\n",
    "    row = []\n",
    "    for j in range(cols):\n",
    "        element = int(input(f\"Enter element at position ({i},{j}): \"))\n",
    "        row.append(element)\n",
    "    matrix1.append(row)\n",
    "\n",
    "print(\"Enter the elements of the second matrix:\")\n",
    "matrix2 = []\n",
    "for i in range(rows):\n",
    "    row = []\n",
    "    for j in range(cols):\n",
    "        element = int(input(f\"Enter element at position ({i},{j}): \"))\n",
    "        row.append(element)\n",
    "    matrix2.append(row)\n",
    "\n",
    "result_matrix = add_matrices(matrix1, matrix2)\n",
    "\n",
    "print(\"Resultant matrix after addition:\")\n",
    "for row in result_matrix:\n",
    "    print(row)\n"
   ]
  },
  {
   "cell_type": "code",
   "execution_count": null,
   "id": "16e95b9d",
   "metadata": {},
   "outputs": [],
   "source": [
    "#2. Write a Python Program to Multiply Two Matrices?"
   ]
  },
  {
   "cell_type": "code",
   "execution_count": null,
   "id": "936564b3",
   "metadata": {},
   "outputs": [],
   "source": [
    "def multiply_matrices(matrix1, matrix2):\n",
    "    result = []\n",
    "    for i in range(len(matrix1)):\n",
    "        row = []\n",
    "        for j in range(len(matrix2[0])):\n",
    "            element = 0\n",
    "            for k in range(len(matrix2)):\n",
    "                element += matrix1[i][k] * matrix2[k][j]\n",
    "            row.append(element)\n",
    "        result.append(row)\n",
    "    return result\n",
    "\n",
    "rows1 = int(input(\"Enter the number of rows for matrix 1: \"))\n",
    "cols1 = int(input(\"Enter the number of columns for matrix 1: \"))\n",
    "rows2 = int(input(\"Enter the number of rows for matrix 2: \"))\n",
    "cols2 = int(input(\"Enter the number of columns for matrix 2: \"))\n",
    "\n",
    "if cols1 != rows2:\n",
    "    print(\"Matrices cannot be multiplied.\")\n",
    "else:\n",
    "    print(\"Enter the elements of matrix 1:\")\n",
    "    matrix1 = []\n",
    "    for i in range(rows1):\n",
    "        row = []\n",
    "        for j in range(cols1):\n",
    "            element = int(input(f\"Enter element at position ({i},{j}): \"))\n",
    "            row.append(element)\n",
    "        matrix1.append(row)\n",
    "\n",
    "    print(\"Enter the elements of matrix 2:\")\n",
    "    matrix2 = []\n",
    "    for i in range(rows2):\n",
    "        row = []\n",
    "        for j in range(cols2):\n",
    "            element = int(input(f\"Enter element at position ({i},{j}): \"))\n",
    "            row.append(element)\n",
    "        matrix2.append(row)\n",
    "\n",
    "    result_matrix = multiply_matrices(matrix1, matrix2)\n",
    "\n",
    "    print(\"Resultant matrix after multiplication:\")\n",
    "    for row in result_matrix:\n",
    "        print(row)\n"
   ]
  },
  {
   "cell_type": "code",
   "execution_count": null,
   "id": "06d7c713",
   "metadata": {},
   "outputs": [],
   "source": [
    "#3. Write a Python Program to Transpose a Matrix?"
   ]
  },
  {
   "cell_type": "code",
   "execution_count": null,
   "id": "bd0bab6d",
   "metadata": {},
   "outputs": [],
   "source": [
    "def transpose_matrix(matrix):\n",
    "    rows = len(matrix)\n",
    "    cols = len(matrix[0])\n",
    "    transposed_matrix = [[0 for _ in range(rows)] for _ in range(cols)]\n",
    "\n",
    "    for i in range(rows):\n",
    "        for j in range(cols):\n",
    "            transposed_matrix[j][i] = matrix[i][j]\n",
    "\n",
    "    return transposed_matrix\n",
    "\n",
    "rows = int(input(\"Enter the number of rows: \"))\n",
    "cols = int(input(\"Enter the number of columns: \"))\n",
    "\n",
    "print(\"Enter the elements of the matrix:\")\n",
    "matrix = []\n",
    "for i in range(rows):\n",
    "    row = []\n",
    "    for j in range(cols):\n",
    "        element = int(input(f\"Enter element at position ({i},{j}): \"))\n",
    "        row.append(element)\n",
    "    matrix.append(row)\n",
    "\n",
    "transposed_matrix = transpose_matrix(matrix)\n",
    "\n",
    "print(\"Transposed matrix:\")\n",
    "for row in transposed_matrix:\n",
    "    print(row)\n"
   ]
  },
  {
   "cell_type": "code",
   "execution_count": null,
   "id": "0aff8673",
   "metadata": {},
   "outputs": [],
   "source": [
    "#4. Write a Python Program to Sort Words in Alphabetic Order?"
   ]
  },
  {
   "cell_type": "code",
   "execution_count": null,
   "id": "bcdfd8dd",
   "metadata": {},
   "outputs": [],
   "source": [
    "sentence = input(\"Enter a sentence: \")\n",
    "\n",
    "words = sentence.split()\n",
    "\n",
    "sorted_words = sorted(words)\n",
    "\n",
    "print(\"Words in alphabetical order:\")\n",
    "for word in sorted_words:\n",
    "    print(word)\n"
   ]
  },
  {
   "cell_type": "code",
   "execution_count": null,
   "id": "8be488ae",
   "metadata": {},
   "outputs": [],
   "source": [
    "#5. Write a Python Program to Remove Punctuation From a String?"
   ]
  },
  {
   "cell_type": "code",
   "execution_count": null,
   "id": "6d98378f",
   "metadata": {},
   "outputs": [],
   "source": [
    "import string\n",
    "\n",
    "input_string = input(\"Enter a string: \")\n",
    "\n",
    "cleaned_string = input_string.translate(str.maketrans('', '', string.punctuation))\n",
    "\n",
    "print(\"String after removing punctuation:\", cleaned_string)\n"
   ]
  },
  {
   "cell_type": "code",
   "execution_count": null,
   "id": "cc3b4e5a",
   "metadata": {},
   "outputs": [],
   "source": []
  }
 ],
 "metadata": {
  "kernelspec": {
   "display_name": "Python 3 (ipykernel)",
   "language": "python",
   "name": "python3"
  },
  "language_info": {
   "codemirror_mode": {
    "name": "ipython",
    "version": 3
   },
   "file_extension": ".py",
   "mimetype": "text/x-python",
   "name": "python",
   "nbconvert_exporter": "python",
   "pygments_lexer": "ipython3",
   "version": "3.9.13"
  }
 },
 "nbformat": 4,
 "nbformat_minor": 5
}
