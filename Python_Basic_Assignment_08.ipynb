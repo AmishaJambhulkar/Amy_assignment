{
 "cells": [
  {
   "cell_type": "code",
   "execution_count": null,
   "id": "d6a3778a",
   "metadata": {},
   "outputs": [],
   "source": [
    "#1. Is the Python Standard Library included with PyInputPlus?\n",
    "\n",
    "PyInpuntPlus is not a standard library of Python, we must install it using Pip."
   ]
  },
  {
   "cell_type": "code",
   "execution_count": null,
   "id": "1c29e433",
   "metadata": {},
   "outputs": [],
   "source": [
    "#2. Why is PyInputPlus commonly imported with import pyinputplus as pypi?\n",
    "\n",
    "we can import a module with import pyinputplus as pypi so that we can use module function."
   ]
  },
  {
   "cell_type": "code",
   "execution_count": null,
   "id": "1b49f44f",
   "metadata": {},
   "outputs": [],
   "source": [
    "#3. How do you distinguish between inputInt() and inputFloat()?\n",
    "\n",
    "data type int contains number integer\n",
    "data type float contains number with decimal"
   ]
  },
  {
   "cell_type": "code",
   "execution_count": null,
   "id": "044dd1a9",
   "metadata": {},
   "outputs": [],
   "source": [
    "#4. Using PyInputPlus, how do you ensure that the user enters a whole number between 0 and 99?\n",
    "\n",
    "by using pyip.inputint(min=0,max=99)"
   ]
  },
  {
   "cell_type": "code",
   "execution_count": null,
   "id": "e3deb292",
   "metadata": {},
   "outputs": [],
   "source": [
    "#5. What is transferred to the keyword arguments allowRegexes and blockRegexes?\n",
    "\n",
    "A list of regex strings are that either explicitly allowed or denied."
   ]
  },
  {
   "cell_type": "code",
   "execution_count": null,
   "id": "bd275f0f",
   "metadata": {},
   "outputs": [],
   "source": [
    "#6. If a blank input is entered three times, what does inputStr(limit=3) do?\n",
    "\n",
    "the function will raise RetryLimitException ."
   ]
  },
  {
   "cell_type": "code",
   "execution_count": null,
   "id": "e012991f",
   "metadata": {},
   "outputs": [],
   "source": [
    "#7. If blank input is entered three times, what does inputStr(limit=3, default='hello') do?\n",
    "\n",
    "the function returns the value 'hello'"
   ]
  }
 ],
 "metadata": {
  "kernelspec": {
   "display_name": "Python 3 (ipykernel)",
   "language": "python",
   "name": "python3"
  },
  "language_info": {
   "codemirror_mode": {
    "name": "ipython",
    "version": 3
   },
   "file_extension": ".py",
   "mimetype": "text/x-python",
   "name": "python",
   "nbconvert_exporter": "python",
   "pygments_lexer": "ipython3",
   "version": "3.9.13"
  }
 },
 "nbformat": 4,
 "nbformat_minor": 5
}
