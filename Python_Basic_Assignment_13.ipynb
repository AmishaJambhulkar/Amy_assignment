{
 "cells": [
  {
   "cell_type": "code",
   "execution_count": null,
   "id": "1f4c5c32",
   "metadata": {},
   "outputs": [],
   "source": [
    "#1. What advantages do Excel spreadsheets have over CSV spreadsheets?\n",
    "\n",
    "Excel formats are better for storing more complex data, csv spreadsheets are supported by nearly all data upload interfaces."
   ]
  },
  {
   "cell_type": "code",
   "execution_count": null,
   "id": "3fe17c8f",
   "metadata": {},
   "outputs": [],
   "source": [
    "#2.What do you pass to csv.reader() and csv.writer() to create reader and writer objects?\n",
    "\n",
    "call open() and pass it w to open a file in write mode. this will create the object can pass to csv.\n",
    "to create a writer object - pass a blank string for the open() function."
   ]
  },
  {
   "cell_type": "code",
   "execution_count": null,
   "id": "185397eb",
   "metadata": {},
   "outputs": [],
   "source": [
    "#3. What modes do File objects for reader and writer objects need to be opened in?\n",
    "\n",
    "<r> - reading mode \n",
    "<w> - writing mode \n",
    "<+> - reading and writing both "
   ]
  },
  {
   "cell_type": "code",
   "execution_count": null,
   "id": "bec2ebd2",
   "metadata": {},
   "outputs": [],
   "source": [
    "#4. What method takes a list argument and writes it to a CSV file?\n",
    "\n",
    "The common method to write data from a list to csv file is the writerow() method of writer and DictWriter class."
   ]
  },
  {
   "cell_type": "code",
   "execution_count": null,
   "id": "466dd9ff",
   "metadata": {},
   "outputs": [],
   "source": [
    "#5. What do the keyword arguments delimiter and line terminator do?\n",
    "\n",
    "the delimiter is the character that appears between the cells on a row.\n",
    "the line terminator is the character that comes at the end of a row.(means newline)"
   ]
  },
  {
   "cell_type": "code",
   "execution_count": null,
   "id": "bbbfbfe9",
   "metadata": {},
   "outputs": [],
   "source": [
    "#6. What function takes a string of JSON data and returns a Python data structure?\n",
    "\n",
    "loads()"
   ]
  },
  {
   "cell_type": "code",
   "execution_count": null,
   "id": "1e1d6604",
   "metadata": {},
   "outputs": [],
   "source": [
    "#7. What function takes a Python data structure and returns a string of JSON data?\n",
    "\n",
    "loads()"
   ]
  }
 ],
 "metadata": {
  "kernelspec": {
   "display_name": "Python 3 (ipykernel)",
   "language": "python",
   "name": "python3"
  },
  "language_info": {
   "codemirror_mode": {
    "name": "ipython",
    "version": 3
   },
   "file_extension": ".py",
   "mimetype": "text/x-python",
   "name": "python",
   "nbconvert_exporter": "python",
   "pygments_lexer": "ipython3",
   "version": "3.9.13"
  }
 },
 "nbformat": 4,
 "nbformat_minor": 5
}
