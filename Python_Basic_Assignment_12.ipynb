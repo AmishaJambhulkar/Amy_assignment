{
 "cells": [
  {
   "cell_type": "code",
   "execution_count": null,
   "id": "f5954352",
   "metadata": {},
   "outputs": [],
   "source": [
    "#1. In what modes should the PdfFileReader() and PdfFileWriter() File objects will be opened?\n",
    "\n",
    "For PdfFileReader() - rb - read binary mode\n",
    "For PdfFileWriter() - wb - write binary mode"
   ]
  },
  {
   "cell_type": "code",
   "execution_count": null,
   "id": "9bef6458",
   "metadata": {},
   "outputs": [],
   "source": [
    "#2. From a PdfFileReader object, how do you get a Page object for page 5?\n",
    "\n",
    "PdfFileReader provides a method called getPage(page_no) to get a page object.\n",
    "calling getPage(4) will return page 5."
   ]
  },
  {
   "cell_type": "code",
   "execution_count": null,
   "id": "2f20bfea",
   "metadata": {},
   "outputs": [],
   "source": [
    "#3. What PdfFileReader variable stores the number of pages in the PDF document?\n",
    "\n",
    "getNumPages() method of PdfFileReader stores the number of pages in the PDF document."
   ]
  },
  {
   "cell_type": "code",
   "execution_count": null,
   "id": "9fc78567",
   "metadata": {},
   "outputs": [],
   "source": [
    "#4. If a PdfFileReader object’s PDF is encrypted with the password swordfish, what must you do\n",
    "# before you can obtain Page objects from it?\n",
    "\n",
    "before obtain the page objects, the pdf has been decrypted by calling .decrypt()"
   ]
  },
  {
   "cell_type": "code",
   "execution_count": null,
   "id": "f741ce0f",
   "metadata": {},
   "outputs": [],
   "source": [
    "#5. What methods do you use to rotate a page?\n",
    "\n",
    "rotateClockWise() - for clock wise rotation\n",
    "rotateCounterClockWise() - for counter clock wise rotation"
   ]
  },
  {
   "cell_type": "code",
   "execution_count": null,
   "id": "68572f9f",
   "metadata": {},
   "outputs": [],
   "source": [
    "#6. What is the difference between a Run object and a Paragraph object?\n",
    "\n",
    "Run object - Runs are contiguous groups of characters within a paragraph with the same style. \n",
    "\n",
    "Paragraph object - A document contains multiple paragraphs. A paragraph begins on a new line and contains multiple runs.\n",
    "The document object contains a list of paragraph objects for the paragraphs in the document. "
   ]
  },
  {
   "cell_type": "code",
   "execution_count": null,
   "id": "8d518454",
   "metadata": {},
   "outputs": [],
   "source": [
    "#7. How do you obtain a list of Paragraph objects for a Document object that’s stored in a variable named doc?\n",
    "\n",
    "#!pip install python-docx\n",
    "import docx\n",
    "doc = docx.Document('trial.docx')\n",
    "doc.paragraphs\n",
    "#by using doc.paragraphs"
   ]
  },
  {
   "cell_type": "code",
   "execution_count": null,
   "id": "953ad1c3",
   "metadata": {},
   "outputs": [],
   "source": [
    "#8. What type of object has bold, underline, italic, strike, and outline variables?\n",
    "\n",
    "Run object"
   ]
  },
  {
   "cell_type": "code",
   "execution_count": null,
   "id": "f2c19de4",
   "metadata": {},
   "outputs": [],
   "source": [
    "#9. What is the difference between False, True, and None for the bold variable?\n",
    "\n",
    "true - the attribute is always enabled, no matter what other styles are applied to the run.\n",
    "false - the attribute is always disabled.\n",
    "none - defaults to whatever the run's style is set to."
   ]
  },
  {
   "cell_type": "code",
   "execution_count": null,
   "id": "69917018",
   "metadata": {},
   "outputs": [],
   "source": [
    "#10. How do you create a Document object for a new Word document?\n",
    "\n",
    "by using the docx.document() function"
   ]
  },
  {
   "cell_type": "code",
   "execution_count": null,
   "id": "65575478",
   "metadata": {},
   "outputs": [],
   "source": [
    "#11. How do you add a paragraph with the text 'Hello, there!' to a Document object stored in a\n",
    "# variable named doc?\n",
    "\n",
    "import docx\n",
    "doc = docx.document()\n",
    "doc.addparagraph('Hello, there!')\n",
    "doc.save(hellothere.docx)"
   ]
  },
  {
   "cell_type": "code",
   "execution_count": null,
   "id": "cfeb3296",
   "metadata": {},
   "outputs": [],
   "source": [
    "#12. What integers represent the levels of headings available in Word documents?\n",
    "\n",
    "The levels for a heading in a word document can be specified by using the level attribute inside the add heading method.\n",
    "There are total of 5 levels starting for 0 to 4. where 0 makes a headline with the horizontal line below the text,\n",
    "whereas the heading level 1 is the main heading. Similarly, the other headings are sub-heading with theirs font sizes\n",
    "in decreasing order."
   ]
  }
 ],
 "metadata": {
  "kernelspec": {
   "display_name": "Python 3 (ipykernel)",
   "language": "python",
   "name": "python3"
  },
  "language_info": {
   "codemirror_mode": {
    "name": "ipython",
    "version": 3
   },
   "file_extension": ".py",
   "mimetype": "text/x-python",
   "name": "python",
   "nbconvert_exporter": "python",
   "pygments_lexer": "ipython3",
   "version": "3.9.13"
  }
 },
 "nbformat": 4,
 "nbformat_minor": 5
}
