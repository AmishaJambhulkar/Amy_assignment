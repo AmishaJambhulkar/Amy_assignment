{
 "cells": [
  {
   "cell_type": "code",
   "execution_count": null,
   "id": "856a5313",
   "metadata": {},
   "outputs": [],
   "source": [
    "# 1.In the below elements which of them are values or an expression? eg:- values can \n",
    "# be integer or string and expressions will be mathematical operators.\n",
    "\n",
    "\n",
    "*       expression\n",
    "\n",
    "'hello' string\n",
    "\n",
    "-87.8   float\n",
    "\n",
    "-       expression\n",
    "\n",
    "/       expression\n",
    "\n",
    "+       expression\n",
    "\n",
    "6       integer \n",
    "\n",
    "\n",
    "\n",
    "expression: *, -, /, +\n",
    "values: 'hello', -87.8, 6"
   ]
  },
  {
   "cell_type": "code",
   "execution_count": null,
   "id": "7ba6fb3c",
   "metadata": {},
   "outputs": [],
   "source": [
    "# 2. What is the difference between string and variable?\n",
    "\n",
    "string - strings are type of data that can be store in a variable and it is denoted by single or double quote.\n",
    "\n",
    "variable - variables use to store data in a program."
   ]
  },
  {
   "cell_type": "code",
   "execution_count": null,
   "id": "ce700342",
   "metadata": {},
   "outputs": [],
   "source": [
    "# 3. Describe three different data types.\n",
    "\n",
    "integer(int) - it holds numeric data -> only whole numbers. eg: 11, 3232, 96086\n",
    "    \n",
    "float - it holds numeric data but with decimal point. eg: 5.98, 3.086, 43.097\n",
    "    \n",
    "boolean(bool) - occupies only two terms -> True/False "
   ]
  },
  {
   "cell_type": "code",
   "execution_count": null,
   "id": "5a527c1e",
   "metadata": {},
   "outputs": [],
   "source": [
    "# 4. What is an expression made up of? What do all expressions do?\n",
    "\n",
    "expression are used to perform mathematical operation\n",
    "eg: a=i+4, 12+5*9"
   ]
  },
  {
   "cell_type": "code",
   "execution_count": null,
   "id": "b8ac8ee9",
   "metadata": {},
   "outputs": [],
   "source": [
    "# 5. The assignment statements, like spam = 10. What is the difference between an expression and statement?\n",
    "\n",
    "expression - expression are use for mathematical operation and it gives return in result value\n",
    "\n",
    "statement - whatever we want to print it prints as it is "
   ]
  },
  {
   "cell_type": "code",
   "execution_count": 2,
   "id": "80f834f7",
   "metadata": {},
   "outputs": [
    {
     "data": {
      "text/plain": [
       "23"
      ]
     },
     "execution_count": 2,
     "metadata": {},
     "output_type": "execute_result"
    }
   ],
   "source": [
    "# 6. After running the following code, what does the variable bacon contain?\n",
    "   \n",
    "bacon = 22\n",
    "\n",
    "bacon + 1"
   ]
  },
  {
   "cell_type": "code",
   "execution_count": 3,
   "id": "e4edef82",
   "metadata": {},
   "outputs": [
    {
     "data": {
      "text/plain": [
       "'spamspamspam'"
      ]
     },
     "execution_count": 3,
     "metadata": {},
     "output_type": "execute_result"
    }
   ],
   "source": [
    "# 7. What should the values of the following two terms be?      \n",
    "#   'spam' + 'spamspam' \n",
    "#   'spam' * 3 \n",
    "\n",
    "'spam' + 'spamspam'"
   ]
  },
  {
   "cell_type": "code",
   "execution_count": 4,
   "id": "cd71e100",
   "metadata": {},
   "outputs": [
    {
     "data": {
      "text/plain": [
       "'spamspamspam'"
      ]
     },
     "execution_count": 4,
     "metadata": {},
     "output_type": "execute_result"
    }
   ],
   "source": [
    "'spam' *3 "
   ]
  },
  {
   "cell_type": "code",
   "execution_count": null,
   "id": "33ad16af",
   "metadata": {},
   "outputs": [],
   "source": [
    "# 8. Why is eggs a valid variable name while 100 is invalid?\n",
    "\n",
    "because variable name cannot start with a numeric digit"
   ]
  },
  {
   "cell_type": "code",
   "execution_count": 5,
   "id": "95c09649",
   "metadata": {},
   "outputs": [
    {
     "data": {
      "text/plain": [
       "(421, 421.0, '421')"
      ]
     },
     "execution_count": 5,
     "metadata": {},
     "output_type": "execute_result"
    }
   ],
   "source": [
    "# 9. What three functions can be used to get the integer, floating-point number, or string version of a value? \n",
    "\n",
    "x = 421\n",
    "\n",
    "int(x) , float(x) , str(x)"
   ]
  },
  {
   "cell_type": "code",
   "execution_count": 6,
   "id": "ffd18e52",
   "metadata": {},
   "outputs": [
    {
     "ename": "TypeError",
     "evalue": "can only concatenate str (not \"int\") to str",
     "output_type": "error",
     "traceback": [
      "\u001b[1;31m---------------------------------------------------------------------------\u001b[0m",
      "\u001b[1;31mTypeError\u001b[0m                                 Traceback (most recent call last)",
      "\u001b[1;32m~\\AppData\\Local\\Temp\\ipykernel_4824\\474550797.py\u001b[0m in \u001b[0;36m<module>\u001b[1;34m\u001b[0m\n\u001b[0;32m      2\u001b[0m \u001b[1;31m# 'I have eaten'+99+'burrritos.'\u001b[0m\u001b[1;33m\u001b[0m\u001b[1;33m\u001b[0m\u001b[0m\n\u001b[0;32m      3\u001b[0m \u001b[1;33m\u001b[0m\u001b[0m\n\u001b[1;32m----> 4\u001b[1;33m \u001b[1;34m'I have eaten'\u001b[0m\u001b[1;33m+\u001b[0m\u001b[1;36m99\u001b[0m\u001b[1;33m+\u001b[0m\u001b[1;34m'burrritos.'\u001b[0m\u001b[1;33m\u001b[0m\u001b[1;33m\u001b[0m\u001b[0m\n\u001b[0m",
      "\u001b[1;31mTypeError\u001b[0m: can only concatenate str (not \"int\") to str"
     ]
    }
   ],
   "source": [
    "# 10. Why does this expression cause an error? How can you fix it?\n",
    "# 'I have eaten'+99+'burrritos.'\n",
    "\n",
    "'I have eaten'+99+'burrritos.'   # we can use str(99) or '99'."
   ]
  },
  {
   "cell_type": "code",
   "execution_count": 8,
   "id": "e15db2cb",
   "metadata": {},
   "outputs": [
    {
     "data": {
      "text/plain": [
       "'I have eaten99burrritos.'"
      ]
     },
     "execution_count": 8,
     "metadata": {},
     "output_type": "execute_result"
    }
   ],
   "source": [
    "'I have eaten' + '99' + 'burrritos.'"
   ]
  }
 ],
 "metadata": {
  "kernelspec": {
   "display_name": "Python 3 (ipykernel)",
   "language": "python",
   "name": "python3"
  },
  "language_info": {
   "codemirror_mode": {
    "name": "ipython",
    "version": 3
   },
   "file_extension": ".py",
   "mimetype": "text/x-python",
   "name": "python",
   "nbconvert_exporter": "python",
   "pygments_lexer": "ipython3",
   "version": "3.9.13"
  }
 },
 "nbformat": 4,
 "nbformat_minor": 5
}
