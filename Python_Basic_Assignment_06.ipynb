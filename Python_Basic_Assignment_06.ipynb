{
 "cells": [
  {
   "cell_type": "code",
   "execution_count": null,
   "id": "9aedea70",
   "metadata": {},
   "outputs": [],
   "source": [
    "# 1.What are escape characters, and how do you use them?\n",
    "\n",
    "escape charater is a backslash \\ used with the character whatever we want to insert.\n",
    "\n",
    "use e.g.: \\n and \\t"
   ]
  },
  {
   "cell_type": "code",
   "execution_count": null,
   "id": "a20b2a4b",
   "metadata": {},
   "outputs": [],
   "source": [
    "# 2.What do the escape characters n and t stand for?\n",
    "\n",
    "n is stand for new line\n",
    "t is stand for tab"
   ]
  },
  {
   "cell_type": "code",
   "execution_count": null,
   "id": "9e8df886",
   "metadata": {},
   "outputs": [],
   "source": [
    "# 3.What is the way to include backslash characters in a string?\n",
    "\n",
    "by using escape characters and need two backslashes or use verbatim string."
   ]
  },
  {
   "cell_type": "code",
   "execution_count": null,
   "id": "ac81b36c",
   "metadata": {},
   "outputs": [],
   "source": [
    "# 4.The string \"Howl's Moving Castle\" is a correct value. Why isn't the single quote character in the \n",
    "# word Howl's not escaped a problem?\n",
    "\n",
    "\n",
    "# because starting and ending of the string is marked by double quotes and howl's has a single quote."
   ]
  },
  {
   "cell_type": "code",
   "execution_count": null,
   "id": "2653d8b4",
   "metadata": {},
   "outputs": [],
   "source": [
    "# 5.How do you write a string of newlines if you don't want to use the n character?\n",
    "\n",
    "backslash"
   ]
  },
  {
   "cell_type": "code",
   "execution_count": null,
   "id": "f924f626",
   "metadata": {},
   "outputs": [],
   "source": [
    "# 6.What are the values of the given expressions?\n",
    "\n",
    "'Hello,world!'[1]\n",
    "'Hello,world!'[0:5]\n",
    "'Hello,world!'[:5]\n",
    "'Hello,world!'[3:]"
   ]
  },
  {
   "cell_type": "code",
   "execution_count": 1,
   "id": "d6d7db9c",
   "metadata": {},
   "outputs": [
    {
     "data": {
      "text/plain": [
       "'e'"
      ]
     },
     "execution_count": 1,
     "metadata": {},
     "output_type": "execute_result"
    }
   ],
   "source": [
    "'Hello,world!'[1]"
   ]
  },
  {
   "cell_type": "code",
   "execution_count": 2,
   "id": "6ced6c96",
   "metadata": {},
   "outputs": [
    {
     "data": {
      "text/plain": [
       "'Hello'"
      ]
     },
     "execution_count": 2,
     "metadata": {},
     "output_type": "execute_result"
    }
   ],
   "source": [
    "'Hello,world!'[0:5]"
   ]
  },
  {
   "cell_type": "code",
   "execution_count": 3,
   "id": "6910f9ce",
   "metadata": {},
   "outputs": [
    {
     "data": {
      "text/plain": [
       "'Hello'"
      ]
     },
     "execution_count": 3,
     "metadata": {},
     "output_type": "execute_result"
    }
   ],
   "source": [
    "'Hello,world!'[:5]"
   ]
  },
  {
   "cell_type": "code",
   "execution_count": 4,
   "id": "a14901f1",
   "metadata": {},
   "outputs": [
    {
     "data": {
      "text/plain": [
       "'lo,world!'"
      ]
     },
     "execution_count": 4,
     "metadata": {},
     "output_type": "execute_result"
    }
   ],
   "source": [
    "'Hello,world!'[3:]"
   ]
  },
  {
   "cell_type": "code",
   "execution_count": null,
   "id": "be941230",
   "metadata": {},
   "outputs": [],
   "source": [
    "# 7.What are the values of the following expressions?\n",
    "\n",
    "'Hello'.upper()\n",
    "'Hello'.upper().isupper()\n",
    "'Hello'.upper().lower()"
   ]
  },
  {
   "cell_type": "code",
   "execution_count": 5,
   "id": "9d66bf56",
   "metadata": {},
   "outputs": [
    {
     "data": {
      "text/plain": [
       "'HELLO'"
      ]
     },
     "execution_count": 5,
     "metadata": {},
     "output_type": "execute_result"
    }
   ],
   "source": [
    "'Hello'.upper()"
   ]
  },
  {
   "cell_type": "code",
   "execution_count": 6,
   "id": "38dd709e",
   "metadata": {},
   "outputs": [
    {
     "data": {
      "text/plain": [
       "True"
      ]
     },
     "execution_count": 6,
     "metadata": {},
     "output_type": "execute_result"
    }
   ],
   "source": [
    "'Hello'.upper().isupper()"
   ]
  },
  {
   "cell_type": "code",
   "execution_count": 7,
   "id": "23bc51b8",
   "metadata": {},
   "outputs": [
    {
     "data": {
      "text/plain": [
       "'hello'"
      ]
     },
     "execution_count": 7,
     "metadata": {},
     "output_type": "execute_result"
    }
   ],
   "source": [
    "'Hello'.upper().lower()"
   ]
  },
  {
   "cell_type": "code",
   "execution_count": null,
   "id": "6006d70f",
   "metadata": {},
   "outputs": [],
   "source": [
    "# 8.What are the values of the following expressions?\n",
    "\n",
    "'Remember, remember, the fifth of July.'.split()\n",
    "'-'.join('There can only one.'.split())"
   ]
  },
  {
   "cell_type": "code",
   "execution_count": 8,
   "id": "3c05eed6",
   "metadata": {},
   "outputs": [
    {
     "data": {
      "text/plain": [
       "['Remember,', 'remember,', 'the', 'fifth', 'of', 'July.']"
      ]
     },
     "execution_count": 8,
     "metadata": {},
     "output_type": "execute_result"
    }
   ],
   "source": [
    "'Remember, remember, the fifth of July.'.split()"
   ]
  },
  {
   "cell_type": "code",
   "execution_count": 9,
   "id": "b820f1ce",
   "metadata": {},
   "outputs": [
    {
     "data": {
      "text/plain": [
       "'There-can-only-one.'"
      ]
     },
     "execution_count": 9,
     "metadata": {},
     "output_type": "execute_result"
    }
   ],
   "source": [
    "'-'.join('There can only one.'.split())"
   ]
  },
  {
   "cell_type": "code",
   "execution_count": null,
   "id": "cdce21a3",
   "metadata": {},
   "outputs": [],
   "source": [
    "# 9.What are the methods for right-justifying, left-justifying, and centering a string?\n",
    "\n",
    "right-justifying ->  rjust()\n",
    "left-justifying ->   ljust()\n",
    "centering ->   center()"
   ]
  },
  {
   "cell_type": "code",
   "execution_count": null,
   "id": "0d272a83",
   "metadata": {},
   "outputs": [],
   "source": [
    "# 10.What is the best way to remove whitespace characters from the start or end?\n",
    "\n",
    ".strip()\n",
    ".trim()"
   ]
  }
 ],
 "metadata": {
  "kernelspec": {
   "display_name": "Python 3 (ipykernel)",
   "language": "python",
   "name": "python3"
  },
  "language_info": {
   "codemirror_mode": {
    "name": "ipython",
    "version": 3
   },
   "file_extension": ".py",
   "mimetype": "text/x-python",
   "name": "python",
   "nbconvert_exporter": "python",
   "pygments_lexer": "ipython3",
   "version": "3.9.13"
  }
 },
 "nbformat": 4,
 "nbformat_minor": 5
}
