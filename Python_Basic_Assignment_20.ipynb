{
 "cells": [
  {
   "cell_type": "code",
   "execution_count": null,
   "id": "c54b20e2",
   "metadata": {},
   "outputs": [],
   "source": [
    "#1. Set the variable test1 to the string 'This is a test of the emergency text system,' and save test1 to a\n",
    "# file named test.txt."
   ]
  },
  {
   "cell_type": "code",
   "execution_count": null,
   "id": "2570ed89",
   "metadata": {},
   "outputs": [],
   "source": [
    "test1 = 'This is a test of the emergency text system,'\n",
    "\n",
    "# Save test1 to a file named test.txt\n",
    "with open('test.txt', 'w') as file:\n",
    "    file.write(test1)\n"
   ]
  },
  {
   "cell_type": "code",
   "execution_count": null,
   "id": "36699c71",
   "metadata": {},
   "outputs": [],
   "source": [
    "#2. Read the contents of the file test.txt into the variable test2. Is there a difference between test 1\n",
    "# and test 2?"
   ]
  },
  {
   "cell_type": "code",
   "execution_count": null,
   "id": "9a918c04",
   "metadata": {},
   "outputs": [],
   "source": [
    "# Read the contents of the file test.txt into the variable test2\n",
    "with open('test.txt', 'r') as file:\n",
    "    test2 = file.read()\n",
    "\n",
    "# Check if there is a difference between test1 and test2\n",
    "print(\"Is there a difference between test1 and test2?\", test1 == test2)\n"
   ]
  },
  {
   "cell_type": "code",
   "execution_count": null,
   "id": "70b5a6ef",
   "metadata": {},
   "outputs": [],
   "source": [
    "#3. Create a CSV file called books.csv by using these lines:\n",
    "# title,author,year\n",
    "# The Weirdstone of Brisingamen,Alan Garner,1960\n",
    "# Perdido Street Station,China Miéville,2000\n",
    "# Thud!,Terry Pratchett,2005\n",
    "# The Spellman Files,Lisa Lutz,2007\n",
    "# Small Gods,Terry Pratchett,1992"
   ]
  },
  {
   "cell_type": "code",
   "execution_count": null,
   "id": "19626156",
   "metadata": {},
   "outputs": [],
   "source": [
    "csv_data = '''title,author,year\n",
    "The Weirdstone of Brisingamen,Alan Garner,1960\n",
    "Perdido Street Station,China Miéville,2000\n",
    "Thud!,Terry Pratchett,2005\n",
    "The Spellman Files,Lisa Lutz,2007\n",
    "Small Gods,Terry Pratchett,1992'''\n",
    "\n",
    "# Write the data to the 'books.csv' file\n",
    "with open('books.csv', 'w') as file:\n",
    "    file.write(csv_data)\n"
   ]
  },
  {
   "cell_type": "code",
   "execution_count": null,
   "id": "904f9c51",
   "metadata": {},
   "outputs": [],
   "source": [
    "#4. Use the sqlite3 module to create a SQLite database called books.db, and a table called books with\n",
    "# these fields: title (text), author (text), and year (integer)."
   ]
  },
  {
   "cell_type": "code",
   "execution_count": null,
   "id": "9164c6fc",
   "metadata": {},
   "outputs": [],
   "source": [
    "import sqlite3\n",
    "\n",
    "# Connect to the SQLite database (if it doesn't exist, it will be created)\n",
    "connection = sqlite3.connect('books.db')\n",
    "\n",
    "# Create a cursor object to interact with the database\n",
    "cursor = connection.cursor()\n",
    "\n",
    "# Define the SQL query to create the 'books' table\n",
    "create_table_query = '''\n",
    "CREATE TABLE IF NOT EXISTS books (\n",
    "    title TEXT,\n",
    "    author TEXT,\n",
    "    year INTEGER\n",
    ")\n",
    "'''\n",
    "\n",
    "# Execute the SQL query to create the 'books' table\n",
    "cursor.execute(create_table_query)\n",
    "\n",
    "# Commit the changes and close the connection\n",
    "connection.commit()\n",
    "connection.close()\n"
   ]
  },
  {
   "cell_type": "code",
   "execution_count": null,
   "id": "061ea1fd",
   "metadata": {},
   "outputs": [],
   "source": [
    "#5. Read books.csv and insert its data into the book table."
   ]
  },
  {
   "cell_type": "code",
   "execution_count": null,
   "id": "e3de7fdd",
   "metadata": {},
   "outputs": [],
   "source": [
    "import csv\n",
    "import sqlite3\n",
    "\n",
    "# Connect to the SQLite database\n",
    "connection = sqlite3.connect('books.db')\n",
    "cursor = connection.cursor()\n",
    "\n",
    "# Create the 'books' table if it doesn't exist (you can skip this step if the table already exists)\n",
    "create_table_query = '''\n",
    "CREATE TABLE IF NOT EXISTS books (\n",
    "    title TEXT,\n",
    "    author TEXT,\n",
    "    year INTEGER\n",
    ")\n",
    "'''\n",
    "cursor.execute(create_table_query)\n",
    "\n",
    "# Read the data from the 'books.csv' file and insert it into the 'books' table\n",
    "with open('books.csv', 'r') as file:\n",
    "    csv_reader = csv.reader(file)\n",
    "    next(csv_reader)  # Skip the header row\n",
    "\n",
    "    for row in csv_reader:\n",
    "        title, author, year = row\n",
    "        cursor.execute(\"INSERT INTO books (title, author, year) VALUES (?, ?, ?)\", (title, author, int(year)))\n",
    "\n",
    "# Commit the changes and close the connection\n",
    "connection.commit()\n",
    "connection.close()\n"
   ]
  },
  {
   "cell_type": "code",
   "execution_count": null,
   "id": "b969168b",
   "metadata": {},
   "outputs": [],
   "source": [
    "#6. Select and print the title column from the book table in alphabetical order."
   ]
  },
  {
   "cell_type": "code",
   "execution_count": null,
   "id": "016ead7a",
   "metadata": {},
   "outputs": [],
   "source": [
    "import sqlite3\n",
    "\n",
    "# Connect to the SQLite database\n",
    "connection = sqlite3.connect('books.db')\n",
    "cursor = connection.cursor()\n",
    "\n",
    "# Select the 'title' column from the 'books' table in alphabetical order\n",
    "query = \"SELECT title FROM books ORDER BY title ASC\"\n",
    "cursor.execute(query)\n",
    "\n",
    "# Fetch all the rows from the query result\n",
    "rows = cursor.fetchall()\n",
    "\n",
    "# Print the 'title' column values\n",
    "for row in rows:\n",
    "    print(row[0])\n",
    "\n",
    "# Close the connection\n",
    "connection.close()\n"
   ]
  },
  {
   "cell_type": "code",
   "execution_count": null,
   "id": "22215920",
   "metadata": {},
   "outputs": [],
   "source": [
    "#7. From the book table, select and print all columns in the order of publication."
   ]
  },
  {
   "cell_type": "code",
   "execution_count": null,
   "id": "74e6f724",
   "metadata": {},
   "outputs": [],
   "source": [
    "import sqlite3\n",
    "\n",
    "# Connect to the SQLite database\n",
    "connection = sqlite3.connect('books.db')\n",
    "cursor = connection.cursor()\n",
    "\n",
    "# Select all columns from the 'books' table in the order of publication (year)\n",
    "query = \"SELECT * FROM books ORDER BY year\"\n",
    "cursor.execute(query)\n",
    "\n",
    "# Fetch all the rows from the query result\n",
    "rows = cursor.fetchall()\n",
    "\n",
    "# Print the column headers\n",
    "columns = [description[0] for description in cursor.description]\n",
    "print(\", \".join(columns))\n",
    "\n",
    "# Print the data rows\n",
    "for row in rows:\n",
    "    print(\", \".join(str(value) for value in row))\n",
    "\n",
    "# Close the connection\n",
    "connection.close()\n"
   ]
  },
  {
   "cell_type": "code",
   "execution_count": null,
   "id": "f0ca3dbb",
   "metadata": {},
   "outputs": [],
   "source": [
    "#8. Use the sqlalchemy module to connect to the sqlite3 database books.db that you just made in exercise 6."
   ]
  },
  {
   "cell_type": "code",
   "execution_count": null,
   "id": "100532d7",
   "metadata": {},
   "outputs": [],
   "source": [
    "pip install sqlalchemy\n",
    "\n",
    "from sqlalchemy import create_engine, MetaData, Table\n",
    "\n",
    "# Connect to the SQLite database using SQLAlchemy\n",
    "engine = create_engine('sqlite:///books.db', echo=True)  # Set echo=True for verbose output\n",
    "\n",
    "# Get the metadata and reflect the 'books' table\n",
    "metadata = MetaData()\n",
    "books_table = Table('books', metadata, autoload=True, autoload_with=engine)\n",
    "\n",
    "# Perform any database operations using the engine and books_table as needed\n",
    "# For example, you can execute queries, insert data, etc.\n",
    "\n",
    "# Close the connection (not necessary in this example since it's a lightweight connection)\n",
    "engine.dispose()\n"
   ]
  },
  {
   "cell_type": "code",
   "execution_count": null,
   "id": "c0387f11",
   "metadata": {},
   "outputs": [],
   "source": [
    "#9. Install the Redis server and the Python redis library (pip install redis) on your computer. Create a\n",
    "# Redis hash called test with the fields count (1) and name ('Fester Bestertester'). Print all the fields for test."
   ]
  },
  {
   "cell_type": "code",
   "execution_count": null,
   "id": "7150ca5d",
   "metadata": {},
   "outputs": [],
   "source": [
    "pip install redis\n",
    "\n",
    "import redis\n",
    "\n",
    "# Connect to the Redis server\n",
    "redis_client = redis.StrictRedis(host='localhost', port=6379, db=0)\n",
    "\n",
    "# Create the Redis hash called 'test'\n",
    "redis_client.hset('test', 'count', 1)\n",
    "redis_client.hset('test', 'name', 'Fester Bestertester')\n",
    "\n",
    "# Get all the fields for the 'test' hash and print them\n",
    "fields = redis_client.hgetall('test')\n",
    "for key, value in fields.items():\n",
    "    print(f\"{key}: {value.decode()}\")  # Decode value from bytes to string\n"
   ]
  },
  {
   "cell_type": "code",
   "execution_count": null,
   "id": "a7e416bc",
   "metadata": {},
   "outputs": [],
   "source": [
    "#10. Increment the count field of test and print it."
   ]
  },
  {
   "cell_type": "code",
   "execution_count": null,
   "id": "2a53f09b",
   "metadata": {},
   "outputs": [],
   "source": [
    "import redis\n",
    "\n",
    "# Connect to the Redis server\n",
    "redis_client = redis.StrictRedis(host='localhost', port=6379, db=0)\n",
    "\n",
    "# Increment the 'count' field of the 'test' hash\n",
    "redis_client.hincrby('test', 'count', 1)\n",
    "\n",
    "# Get and print the updated 'count' field value\n",
    "count_value = redis_client.hget('test', 'count')\n",
    "print(\"Updated count:\", int(count_value))\n",
    "\n",
    "Updated count: 2\n"
   ]
  }
 ],
 "metadata": {
  "kernelspec": {
   "display_name": "Python 3 (ipykernel)",
   "language": "python",
   "name": "python3"
  },
  "language_info": {
   "codemirror_mode": {
    "name": "ipython",
    "version": 3
   },
   "file_extension": ".py",
   "mimetype": "text/x-python",
   "name": "python",
   "nbconvert_exporter": "python",
   "pygments_lexer": "ipython3",
   "version": "3.9.13"
  }
 },
 "nbformat": 4,
 "nbformat_minor": 5
}
