{
 "cells": [
  {
   "cell_type": "code",
   "execution_count": null,
   "id": "363af155",
   "metadata": {},
   "outputs": [],
   "source": [
    "#1. Write a Python program to find sum of elements in list?"
   ]
  },
  {
   "cell_type": "code",
   "execution_count": 1,
   "id": "ee2c0059",
   "metadata": {},
   "outputs": [
    {
     "name": "stdout",
     "output_type": "stream",
     "text": [
      "Enter the list elements separated by spaces: 1 3 7\n",
      "The sum of elements in the list is 11\n"
     ]
    }
   ],
   "source": [
    "elements = input(\"Enter the list elements separated by spaces: \").split()\n",
    "\n",
    "elements = [int(num) for num in elements]\n",
    "\n",
    "sum_of_elements = sum(elements)\n",
    "\n",
    "print(f\"The sum of elements in the list is {sum_of_elements}\")\n"
   ]
  },
  {
   "cell_type": "code",
   "execution_count": null,
   "id": "b46866ac",
   "metadata": {},
   "outputs": [],
   "source": [
    "#2. Write a Python program to Multiply all numbers in the list?"
   ]
  },
  {
   "cell_type": "code",
   "execution_count": 4,
   "id": "6be6a53d",
   "metadata": {},
   "outputs": [
    {
     "name": "stdout",
     "output_type": "stream",
     "text": [
      "Enter the list elements separated by spaces: 5 10\n",
      "The product of numbers in the list is 50\n"
     ]
    }
   ],
   "source": [
    "elements = input(\"Enter the list elements separated by spaces: \").split()\n",
    "\n",
    "elements = [int(num) for num in elements]\n",
    "\n",
    "product = 1\n",
    "for num in elements:\n",
    "    product *= num\n",
    "\n",
    "print(f\"The product of numbers in the list is {product}\")\n"
   ]
  },
  {
   "cell_type": "code",
   "execution_count": null,
   "id": "e8b3382a",
   "metadata": {},
   "outputs": [],
   "source": [
    "#3. Write a Python program to find smallest number in a list?"
   ]
  },
  {
   "cell_type": "code",
   "execution_count": 5,
   "id": "0e3ea1fb",
   "metadata": {},
   "outputs": [
    {
     "name": "stdout",
     "output_type": "stream",
     "text": [
      "Enter the list elements separated by spaces: 5 7\n",
      "The smallest number in the list is 5\n"
     ]
    }
   ],
   "source": [
    "elements = input(\"Enter the list elements separated by spaces: \").split()\n",
    "\n",
    "elements = [int(num) for num in elements]\n",
    "\n",
    "smallest = min(elements)\n",
    "\n",
    "print(f\"The smallest number in the list is {smallest}\")\n"
   ]
  },
  {
   "cell_type": "code",
   "execution_count": null,
   "id": "622c7bfb",
   "metadata": {},
   "outputs": [],
   "source": [
    "#4. Write a Python program to find largest number in a list?"
   ]
  },
  {
   "cell_type": "code",
   "execution_count": 6,
   "id": "211b2a80",
   "metadata": {},
   "outputs": [
    {
     "name": "stdout",
     "output_type": "stream",
     "text": [
      "Enter the list elements separated by spaces: 5 7\n",
      "The largest number in the list is 7\n"
     ]
    }
   ],
   "source": [
    "elements = input(\"Enter the list elements separated by spaces: \").split()\n",
    "\n",
    "elements = [int(num) for num in elements]\n",
    "\n",
    "largest = max(elements)\n",
    "\n",
    "print(f\"The largest number in the list is {largest}\")\n"
   ]
  },
  {
   "cell_type": "code",
   "execution_count": null,
   "id": "36e4affa",
   "metadata": {},
   "outputs": [],
   "source": [
    "#5. Write a Python program to find second largest number in a list?"
   ]
  },
  {
   "cell_type": "code",
   "execution_count": 7,
   "id": "266cecd0",
   "metadata": {},
   "outputs": [
    {
     "name": "stdout",
     "output_type": "stream",
     "text": [
      "Enter the list elements separated by spaces: 5 7 9\n",
      "The second largest number in the list is 7\n"
     ]
    }
   ],
   "source": [
    "elements = input(\"Enter the list elements separated by spaces: \").split()\n",
    "\n",
    "elements = [int(num) for num in elements]\n",
    "\n",
    "largest = max(elements)\n",
    "elements.remove(largest)\n",
    "second_largest = max(elements)\n",
    "\n",
    "print(f\"The second largest number in the list is {second_largest}\")\n"
   ]
  },
  {
   "cell_type": "code",
   "execution_count": null,
   "id": "e04bee34",
   "metadata": {},
   "outputs": [],
   "source": [
    "#6. Write a Python program to find N largest elements from a list?"
   ]
  },
  {
   "cell_type": "code",
   "execution_count": 8,
   "id": "b6554afd",
   "metadata": {},
   "outputs": [
    {
     "name": "stdout",
     "output_type": "stream",
     "text": [
      "Enter the list elements separated by spaces: 3 5 7\n",
      "Enter the value of N: 3\n",
      "The 3 largest elements in the list are: [7, 5, 3]\n"
     ]
    }
   ],
   "source": [
    "elements = input(\"Enter the list elements separated by spaces: \").split()\n",
    "\n",
    "elements = [int(num) for num in elements]\n",
    "\n",
    "N = int(input(\"Enter the value of N: \"))\n",
    "\n",
    "largest_elements = sorted(elements, reverse=True)[:N]\n",
    "\n",
    "print(f\"The {N} largest elements in the list are: {largest_elements}\")\n"
   ]
  },
  {
   "cell_type": "code",
   "execution_count": null,
   "id": "9f4c58d6",
   "metadata": {},
   "outputs": [],
   "source": [
    "#7. Write a Python program to print even numbers in a list?"
   ]
  },
  {
   "cell_type": "code",
   "execution_count": 10,
   "id": "b0f06571",
   "metadata": {},
   "outputs": [
    {
     "name": "stdout",
     "output_type": "stream",
     "text": [
      "Enter the list elements separated by spaces: 5 7 10\n",
      "Even numbers in the list:\n",
      "10 "
     ]
    }
   ],
   "source": [
    "elements = input(\"Enter the list elements separated by spaces: \").split()\n",
    "\n",
    "elements = [int(num) for num in elements]\n",
    "\n",
    "print(\"Even numbers in the list:\")\n",
    "for num in elements:\n",
    "    if num % 2 == 0:\n",
    "        print(num, end=\" \")\n"
   ]
  },
  {
   "cell_type": "code",
   "execution_count": null,
   "id": "21904a27",
   "metadata": {},
   "outputs": [],
   "source": [
    "#8. Write a Python program to print odd numbers in a List?"
   ]
  },
  {
   "cell_type": "code",
   "execution_count": 12,
   "id": "d7e4b7e1",
   "metadata": {},
   "outputs": [
    {
     "name": "stdout",
     "output_type": "stream",
     "text": [
      "Enter the list elements separated by spaces: 5 7 10\n",
      "Odd numbers in the list:\n",
      "5 7 "
     ]
    }
   ],
   "source": [
    "elements = input(\"Enter the list elements separated by spaces: \").split()\n",
    "\n",
    "elements = [int(num) for num in elements]\n",
    "\n",
    "print(\"Odd numbers in the list:\")\n",
    "for num in elements:\n",
    "    if num % 2 != 0:\n",
    "        print(num, end=\" \")\n"
   ]
  },
  {
   "cell_type": "code",
   "execution_count": null,
   "id": "47f6cdc1",
   "metadata": {},
   "outputs": [],
   "source": [
    "#9. Write a Python program to Remove empty List from List?"
   ]
  },
  {
   "cell_type": "code",
   "execution_count": 13,
   "id": "17b58976",
   "metadata": {},
   "outputs": [
    {
     "name": "stdout",
     "output_type": "stream",
     "text": [
      "Enter the list elements separated by spaces: 3 5 7 10\n",
      "List after removing empty lists:\n"
     ]
    }
   ],
   "source": [
    "elements = input(\"Enter the list elements separated by spaces: \").split()\n",
    "\n",
    "sublists = []\n",
    "temp_list = []\n",
    "for element in elements:\n",
    "    if element == \"[]\":\n",
    "        sublists.append(temp_list)\n",
    "        temp_list = []\n",
    "    else:\n",
    "        temp_list.append(int(element))\n",
    "\n",
    "non_empty_sublists = [sublist for sublist in sublists if sublist]\n",
    "\n",
    "print(\"List after removing empty lists:\")\n",
    "for sublist in non_empty_sublists:\n",
    "    print(sublist)\n"
   ]
  },
  {
   "cell_type": "code",
   "execution_count": null,
   "id": "0bb99406",
   "metadata": {},
   "outputs": [],
   "source": [
    "#10. Write a Python program to Cloning or Copying a list?"
   ]
  },
  {
   "cell_type": "code",
   "execution_count": 14,
   "id": "412fc251",
   "metadata": {},
   "outputs": [
    {
     "name": "stdout",
     "output_type": "stream",
     "text": [
      "Enter the list elements separated by spaces: 3 7 \n",
      "Copied list: ['3', '7']\n"
     ]
    }
   ],
   "source": [
    "original_list = input(\"Enter the list elements separated by spaces: \").split()\n",
    "\n",
    "copied_list = original_list.copy()\n",
    "\n",
    "print(\"Copied list:\", copied_list)\n"
   ]
  },
  {
   "cell_type": "code",
   "execution_count": null,
   "id": "87af8814",
   "metadata": {},
   "outputs": [],
   "source": [
    "#11. Write a Python program to Count occurrences of an element in a list?"
   ]
  },
  {
   "cell_type": "code",
   "execution_count": 16,
   "id": "b828ba45",
   "metadata": {},
   "outputs": [
    {
     "name": "stdout",
     "output_type": "stream",
     "text": [
      "Enter the list elements separated by spaces: 3 5 7\n",
      "Enter the element to count: 3\n",
      "The element '3' occurs 1 times in the list.\n"
     ]
    }
   ],
   "source": [
    "elements = input(\"Enter the list elements separated by spaces: \").split()\n",
    "\n",
    "element_to_count = input(\"Enter the element to count: \")\n",
    "\n",
    "count = elements.count(element_to_count)\n",
    "\n",
    "print(f\"The element '{element_to_count}' occurs {count} times in the list.\")\n"
   ]
  }
 ],
 "metadata": {
  "kernelspec": {
   "display_name": "Python 3 (ipykernel)",
   "language": "python",
   "name": "python3"
  },
  "language_info": {
   "codemirror_mode": {
    "name": "ipython",
    "version": 3
   },
   "file_extension": ".py",
   "mimetype": "text/x-python",
   "name": "python",
   "nbconvert_exporter": "python",
   "pygments_lexer": "ipython3",
   "version": "3.9.13"
  }
 },
 "nbformat": 4,
 "nbformat_minor": 5
}
