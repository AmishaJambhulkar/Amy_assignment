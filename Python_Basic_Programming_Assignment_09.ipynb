{
 "cells": [
  {
   "cell_type": "code",
   "execution_count": null,
   "id": "902b1c4f",
   "metadata": {},
   "outputs": [],
   "source": [
    "#1. Write a Python program to check if the given number is a Disarium Number?"
   ]
  },
  {
   "cell_type": "code",
   "execution_count": 1,
   "id": "0beeb73e",
   "metadata": {},
   "outputs": [
    {
     "name": "stdout",
     "output_type": "stream",
     "text": [
      "Enter a number: 5\n",
      "5 is a Disarium Number.\n"
     ]
    }
   ],
   "source": [
    "def is_disarium_number(number):\n",
    "    num_str = str(number)\n",
    "    power = 1\n",
    "    total = 0\n",
    "    \n",
    "    for digit in num_str:\n",
    "        total += int(digit) ** power\n",
    "        power += 1\n",
    "        \n",
    "    return total == number\n",
    "\n",
    "number = int(input(\"Enter a number: \"))\n",
    "\n",
    "if is_disarium_number(number):\n",
    "    print(f\"{number} is a Disarium Number.\")\n",
    "else:\n",
    "    print(f\"{number} is not a Disarium Number.\")\n"
   ]
  },
  {
   "cell_type": "code",
   "execution_count": null,
   "id": "0ae27478",
   "metadata": {},
   "outputs": [],
   "source": [
    "#2. Write a Python program to print all disarium numbers between 1 to 100?"
   ]
  },
  {
   "cell_type": "code",
   "execution_count": 2,
   "id": "09e2d524",
   "metadata": {},
   "outputs": [
    {
     "name": "stdout",
     "output_type": "stream",
     "text": [
      "Disarium numbers between 1 and 100:\n",
      "1 2 3 4 5 6 7 8 9 89 "
     ]
    }
   ],
   "source": [
    "def is_disarium_number(number):\n",
    "    num_str = str(number)\n",
    "    power = 1\n",
    "    total = 0\n",
    "    \n",
    "    for digit in num_str:\n",
    "        total += int(digit) ** power\n",
    "        power += 1\n",
    "        \n",
    "    return total == number\n",
    "\n",
    "print(\"Disarium numbers between 1 and 100:\")\n",
    "for num in range(1, 101):\n",
    "    if is_disarium_number(num):\n",
    "        print(num, end=\" \")\n"
   ]
  },
  {
   "cell_type": "code",
   "execution_count": null,
   "id": "df1d1b1b",
   "metadata": {},
   "outputs": [],
   "source": [
    "#3. Write a Python program to check if the given number is Happy Number?"
   ]
  },
  {
   "cell_type": "code",
   "execution_count": 3,
   "id": "413d4960",
   "metadata": {},
   "outputs": [
    {
     "name": "stdout",
     "output_type": "stream",
     "text": [
      "Enter a number: 5\n",
      "5 is not a Happy Number.\n"
     ]
    }
   ],
   "source": [
    "def is_happy_number(number):\n",
    "    seen = set()\n",
    "    while number != 1 and number not in seen:\n",
    "        seen.add(number)\n",
    "        num_str = str(number)\n",
    "        number = sum(int(digit) ** 2 for digit in num_str)\n",
    "    return number == 1\n",
    "\n",
    "number = int(input(\"Enter a number: \"))\n",
    "\n",
    "if is_happy_number(number):\n",
    "    print(f\"{number} is a Happy Number.\")\n",
    "else:\n",
    "    print(f\"{number} is not a Happy Number.\")\n"
   ]
  },
  {
   "cell_type": "code",
   "execution_count": null,
   "id": "45327189",
   "metadata": {},
   "outputs": [],
   "source": [
    "#4. Write a Python program to print all happy numbers between 1 and 100?"
   ]
  },
  {
   "cell_type": "code",
   "execution_count": 4,
   "id": "d78dd74d",
   "metadata": {},
   "outputs": [
    {
     "name": "stdout",
     "output_type": "stream",
     "text": [
      "Happy numbers between 1 and 100:\n",
      "1 7 10 13 19 23 28 31 32 44 49 68 70 79 82 86 91 94 97 100 "
     ]
    }
   ],
   "source": [
    "def is_happy_number(number):\n",
    "    seen = set()\n",
    "    while number != 1 and number not in seen:\n",
    "        seen.add(number)\n",
    "        num_str = str(number)\n",
    "        number = sum(int(digit) ** 2 for digit in num_str)\n",
    "    return number == 1\n",
    "\n",
    "print(\"Happy numbers between 1 and 100:\")\n",
    "for num in range(1, 101):\n",
    "    if is_happy_number(num):\n",
    "        print(num, end=\" \")\n"
   ]
  },
  {
   "cell_type": "code",
   "execution_count": null,
   "id": "08ab3683",
   "metadata": {},
   "outputs": [],
   "source": [
    "#5. Write a Python program to determine whether the given number is a Harshad Number?"
   ]
  },
  {
   "cell_type": "code",
   "execution_count": 5,
   "id": "57ac4e6a",
   "metadata": {},
   "outputs": [
    {
     "name": "stdout",
     "output_type": "stream",
     "text": [
      "Enter a number: 5\n",
      "5 is a Harshad Number.\n"
     ]
    }
   ],
   "source": [
    "def is_harshad_number(number):\n",
    "    num_str = str(number)\n",
    "    digit_sum = sum(int(digit) for digit in num_str)\n",
    "    return number % digit_sum == 0\n",
    "\n",
    "number = int(input(\"Enter a number: \"))\n",
    "\n",
    "if is_harshad_number(number):\n",
    "    print(f\"{number} is a Harshad Number.\")\n",
    "else:\n",
    "    print(f\"{number} is not a Harshad Number.\")\n"
   ]
  },
  {
   "cell_type": "code",
   "execution_count": null,
   "id": "57e62cc8",
   "metadata": {},
   "outputs": [],
   "source": [
    "#6. Write a Python program to print all pronic numbers between 1 and 100?"
   ]
  },
  {
   "cell_type": "code",
   "execution_count": 6,
   "id": "085f2f72",
   "metadata": {},
   "outputs": [
    {
     "name": "stdout",
     "output_type": "stream",
     "text": [
      "Pronic numbers between 1 and 100:\n",
      "2 6 12 20 30 42 56 72 90 "
     ]
    }
   ],
   "source": [
    "def is_pronic_number(number):\n",
    "    sqrt = int(number ** 0.5)\n",
    "    return sqrt * (sqrt + 1) == number\n",
    "\n",
    "print(\"Pronic numbers between 1 and 100:\")\n",
    "for num in range(1, 101):\n",
    "    if is_pronic_number(num):\n",
    "        print(num, end=\" \")\n"
   ]
  }
 ],
 "metadata": {
  "kernelspec": {
   "display_name": "Python 3 (ipykernel)",
   "language": "python",
   "name": "python3"
  },
  "language_info": {
   "codemirror_mode": {
    "name": "ipython",
    "version": 3
   },
   "file_extension": ".py",
   "mimetype": "text/x-python",
   "name": "python",
   "nbconvert_exporter": "python",
   "pygments_lexer": "ipython3",
   "version": "3.9.13"
  }
 },
 "nbformat": 4,
 "nbformat_minor": 5
}
