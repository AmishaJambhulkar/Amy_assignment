{
 "cells": [
  {
   "cell_type": "code",
   "execution_count": null,
   "id": "db829e08",
   "metadata": {},
   "outputs": [],
   "source": [
    "#1. What does RGBA stand for?\n",
    "\n",
    "Red   Green   Blue   Alpha"
   ]
  },
  {
   "cell_type": "code",
   "execution_count": null,
   "id": "3718c573",
   "metadata": {},
   "outputs": [],
   "source": [
    "#2. From the Pillow module, how do you get the RGBA value of any images?\n",
    "\n",
    "import the image module from the pillow library\n",
    "open any image and get the rgba values."
   ]
  },
  {
   "cell_type": "code",
   "execution_count": null,
   "id": "11bbba1a",
   "metadata": {},
   "outputs": [],
   "source": [
    "#3. What is a box tuple, and how does it work?\n",
    "\n",
    "box tuple provides read only access for the tuple userdata type and it allows for a single tuple.\n",
    "Tuples are used to store multiple items in single variable. Tuple is one of four built in data types in python used to store \n",
    "collections of data."
   ]
  },
  {
   "cell_type": "code",
   "execution_count": null,
   "id": "249bed93",
   "metadata": {},
   "outputs": [],
   "source": [
    "#4. Use your image and load in notebook then, How can you find out the width and height of an Image object?\n",
    "\n",
    "open() is used to open the image and then \n",
    ".width and .height property of image are used to get the height and width of the image."
   ]
  },
  {
   "cell_type": "code",
   "execution_count": null,
   "id": "4508a5d3",
   "metadata": {},
   "outputs": [],
   "source": [
    "#5. What method would you call to get Image object for a 100×100 image, excluding the lower-left quarter of it?\n",
    "\n",
    "from PIL import Image\n",
    "\n",
    "# Load the image (replace 'your_image_path.jpg' with the actual image path)\n",
    "image = Image.open('your_image_path.jpg')\n",
    "\n",
    "# Crop the image to exclude the lower-left quarter (assuming it's a 100x100 image)\n",
    "cropped_image = image.crop((0, 0, 50, 50))  # (left, upper, right, lower)\n",
    "\n",
    "# Display or save the cropped image as needed\n",
    "cropped_image.show()  # Display the image\n",
    "# cropped_image.save('cropped_image.jpg')  # Save the cropped image to a file\n"
   ]
  },
  {
   "cell_type": "code",
   "execution_count": null,
   "id": "08c8fd7c",
   "metadata": {},
   "outputs": [],
   "source": [
    "#6. After making changes to an Image object, how could you save it as an image file?\n",
    "\n",
    "image.save()"
   ]
  },
  {
   "cell_type": "code",
   "execution_count": null,
   "id": "39157714",
   "metadata": {},
   "outputs": [],
   "source": [
    "#7. What module contains Pillow’s shape-drawing code?\n",
    "\n",
    "'Image draw' module."
   ]
  },
  {
   "cell_type": "code",
   "execution_count": null,
   "id": "9f756f00",
   "metadata": {},
   "outputs": [],
   "source": [
    "#8. Image objects do not have drawing methods. What kind of object does? How do you get this kind of object?\n",
    "\n",
    "from PIL import Image, ImageDraw\n",
    "\n",
    "# Create a new Image object (replace 'mode' and 'size' with appropriate values)\n",
    "mode = \"RGB\"  # Color mode (e.g., 'RGB' for a color image, 'L' for grayscale)\n",
    "size = (100, 100)  # Image size (width, height)\n",
    "image = Image.new(mode, size)\n",
    "\n",
    "# Get the ImageDraw object associated with the Image\n",
    "draw = ImageDraw.Draw(image)\n",
    "\n",
    "# Now, you can use the 'draw' object to perform various drawing operations\n",
    "# For example, drawing a line from (0, 0) to (50, 50)\n",
    "draw.line((0, 0, 50, 50), fill=\"red\", width=2)\n",
    "\n",
    "# Or drawing a rectangle from (50, 50) to (80, 80)\n",
    "draw.rectangle((50, 50, 80, 80), outline=\"blue\", width=1)\n",
    "\n",
    "# Display or save the image with the drawings\n",
    "image.show()  # Display the image\n",
    "# image.save('drawn_image.jpg')  # Save the image with drawings to a file\n"
   ]
  }
 ],
 "metadata": {
  "kernelspec": {
   "display_name": "Python 3 (ipykernel)",
   "language": "python",
   "name": "python3"
  },
  "language_info": {
   "codemirror_mode": {
    "name": "ipython",
    "version": 3
   },
   "file_extension": ".py",
   "mimetype": "text/x-python",
   "name": "python",
   "nbconvert_exporter": "python",
   "pygments_lexer": "ipython3",
   "version": "3.9.13"
  }
 },
 "nbformat": 4,
 "nbformat_minor": 5
}
