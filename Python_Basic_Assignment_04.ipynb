{
 "cells": [
  {
   "cell_type": "code",
   "execution_count": null,
   "id": "a688f19d",
   "metadata": {},
   "outputs": [],
   "source": [
    "# 1.What is exactly [] ?\n",
    "\n",
    "it is an empty list."
   ]
  },
  {
   "cell_type": "code",
   "execution_count": 8,
   "id": "00ac905f",
   "metadata": {},
   "outputs": [],
   "source": [
    "# 2. In a list of values stored in a variable called spam, how would you assign the value 'hello' as the\n",
    "#    third value? (Assume [2, 4, 6, 8, 10] are in spam.)\n",
    "\n",
    "spam = [2, 4, 6, 8, 10]"
   ]
  },
  {
   "cell_type": "code",
   "execution_count": 9,
   "id": "8f4c4e95",
   "metadata": {},
   "outputs": [],
   "source": [
    "spam.insert(3, 'hello')"
   ]
  },
  {
   "cell_type": "code",
   "execution_count": 10,
   "id": "3a5ddd19",
   "metadata": {},
   "outputs": [
    {
     "data": {
      "text/plain": [
       "[2, 4, 6, 'hello', 8, 10]"
      ]
     },
     "execution_count": 10,
     "metadata": {},
     "output_type": "execute_result"
    }
   ],
   "source": [
    "spam"
   ]
  },
  {
   "cell_type": "code",
   "execution_count": 11,
   "id": "1e3c623b",
   "metadata": {},
   "outputs": [
    {
     "data": {
      "text/plain": [
       "[3]"
      ]
     },
     "execution_count": 11,
     "metadata": {},
     "output_type": "execute_result"
    }
   ],
   "source": [
    "# 3. What is the value of spam[int(int('3' * 2) / 11)]?\n",
    "\n",
    "[int(int('3' * 2) / 11)]\n",
    "\n",
    "# '3' is in string and data type int is given that's why result is not right. answer come in float datatype."
   ]
  },
  {
   "cell_type": "code",
   "execution_count": 12,
   "id": "6d89c9d1",
   "metadata": {},
   "outputs": [
    {
     "data": {
      "text/plain": [
       "10"
      ]
     },
     "execution_count": 12,
     "metadata": {},
     "output_type": "execute_result"
    }
   ],
   "source": [
    "# 4. What is the value of spam[-1]?\n",
    "\n",
    "spam[-1]"
   ]
  },
  {
   "cell_type": "code",
   "execution_count": 13,
   "id": "f030bc2e",
   "metadata": {},
   "outputs": [
    {
     "data": {
      "text/plain": [
       "[2, 4]"
      ]
     },
     "execution_count": 13,
     "metadata": {},
     "output_type": "execute_result"
    }
   ],
   "source": [
    "# 5. What is the value of spam[:2]?\n",
    "\n",
    "spam[:2]"
   ]
  },
  {
   "cell_type": "code",
   "execution_count": 14,
   "id": "aa0fe61e",
   "metadata": {},
   "outputs": [],
   "source": [
    "bacon = [3.14, 'cat', 11, 'cat', True]"
   ]
  },
  {
   "cell_type": "code",
   "execution_count": 15,
   "id": "e65047d7",
   "metadata": {},
   "outputs": [
    {
     "data": {
      "text/plain": [
       "1"
      ]
     },
     "execution_count": 15,
     "metadata": {},
     "output_type": "execute_result"
    }
   ],
   "source": [
    "# 6. What is the value of bacon.index('cat')?\n",
    "\n",
    "bacon.index('cat')"
   ]
  },
  {
   "cell_type": "code",
   "execution_count": 16,
   "id": "78c7a1d9",
   "metadata": {},
   "outputs": [],
   "source": [
    "# 7. How does bacon.append(99) change the look of the list value in bacon?\n",
    "\n",
    "bacon.append(99)"
   ]
  },
  {
   "cell_type": "code",
   "execution_count": 17,
   "id": "52411c02",
   "metadata": {},
   "outputs": [
    {
     "data": {
      "text/plain": [
       "[3.14, 'cat', 11, 'cat', True, 99]"
      ]
     },
     "execution_count": 17,
     "metadata": {},
     "output_type": "execute_result"
    }
   ],
   "source": [
    "bacon"
   ]
  },
  {
   "cell_type": "code",
   "execution_count": 18,
   "id": "ec9f840d",
   "metadata": {},
   "outputs": [],
   "source": [
    "# 8. How does bacon.remove('cat') change the look of the list in bacon?\n",
    "\n",
    "bacon.remove('cat') "
   ]
  },
  {
   "cell_type": "code",
   "execution_count": 19,
   "id": "e37f8017",
   "metadata": {},
   "outputs": [
    {
     "data": {
      "text/plain": [
       "[3.14, 11, 'cat', True, 99]"
      ]
     },
     "execution_count": 19,
     "metadata": {},
     "output_type": "execute_result"
    }
   ],
   "source": [
    "bacon"
   ]
  },
  {
   "cell_type": "code",
   "execution_count": null,
   "id": "df8267ec",
   "metadata": {},
   "outputs": [],
   "source": [
    "# 9. What are the list concatenation and list replication operators?\n",
    "\n",
    "for list concatenation is  +\n",
    "and for list replication   *"
   ]
  },
  {
   "cell_type": "code",
   "execution_count": null,
   "id": "1fcee031",
   "metadata": {},
   "outputs": [],
   "source": [
    "# 10. What is difference between the list methods append() and insert()?\n",
    "\n",
    "append is used for adding an element in a list but we can add in end of the list.\n",
    "\n",
    "insert is also used for adding an element in a list but we can add an element in between or anywhere in a list by specifying the position. "
   ]
  },
  {
   "cell_type": "code",
   "execution_count": null,
   "id": "bb83efcd",
   "metadata": {},
   "outputs": [],
   "source": [
    "# 11. What are the two methods for removing items from a list?\n",
    "\n",
    "clear()\n",
    "pop()\n",
    "remove()"
   ]
  },
  {
   "cell_type": "code",
   "execution_count": null,
   "id": "86639a71",
   "metadata": {},
   "outputs": [],
   "source": [
    "# 12. Describe how list values and string values are identical.\n",
    "\n",
    "list values are identify by this [] bracket.\n",
    "numbers in the list.\n",
    "\n",
    "string values are identify by this '' or this \"\" symbol.\n",
    "characters in the string."
   ]
  },
  {
   "cell_type": "code",
   "execution_count": null,
   "id": "7daf58d2",
   "metadata": {},
   "outputs": [],
   "source": [
    "# 13. What's the difference between tuples and lists?\n",
    "\n",
    "tuples are immutable.\n",
    "\n",
    "lists are mutable."
   ]
  },
  {
   "cell_type": "code",
   "execution_count": 20,
   "id": "95004e4f",
   "metadata": {},
   "outputs": [],
   "source": [
    "# 14. How do you type a tuple value that only contains the integer 42?\n",
    "\n",
    "t = (42)"
   ]
  },
  {
   "cell_type": "code",
   "execution_count": 21,
   "id": "586c355a",
   "metadata": {},
   "outputs": [
    {
     "data": {
      "text/plain": [
       "42"
      ]
     },
     "execution_count": 21,
     "metadata": {},
     "output_type": "execute_result"
    }
   ],
   "source": [
    "t"
   ]
  },
  {
   "cell_type": "code",
   "execution_count": null,
   "id": "c545b6ff",
   "metadata": {},
   "outputs": [],
   "source": [
    "# 15. How do you get a list value's tuple form? How do you get a tuple value's list form?\n",
    "\n",
    "by using function name() is used to convert the tuples to list and create a list of tuples\n",
    "and convert list to tuples and create a tuple list."
   ]
  },
  {
   "cell_type": "code",
   "execution_count": null,
   "id": "a3f2cb7f",
   "metadata": {},
   "outputs": [],
   "source": [
    "# 16. Variables that \"contain\" list values are not necessarily lists themselves. Instead, what do they contain?\n",
    "\n",
    "variables will contain references to list values. "
   ]
  },
  {
   "cell_type": "code",
   "execution_count": null,
   "id": "251e338a",
   "metadata": {},
   "outputs": [],
   "source": [
    "# 17. How do you distinguish between copy.copy() and copy.deepcopy()?\n",
    "\n",
    "copy create reference or duplicate to original object if you changed copied object you change the original object.\n",
    "deepcopy creates new object and makes a new copy and if you changed copied object the original one is not affect."
   ]
  }
 ],
 "metadata": {
  "kernelspec": {
   "display_name": "Python 3 (ipykernel)",
   "language": "python",
   "name": "python3"
  },
  "language_info": {
   "codemirror_mode": {
    "name": "ipython",
    "version": 3
   },
   "file_extension": ".py",
   "mimetype": "text/x-python",
   "name": "python",
   "nbconvert_exporter": "python",
   "pygments_lexer": "ipython3",
   "version": "3.9.13"
  }
 },
 "nbformat": 4,
 "nbformat_minor": 5
}
