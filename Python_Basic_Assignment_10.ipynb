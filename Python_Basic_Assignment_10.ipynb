{
 "cells": [
  {
   "cell_type": "code",
   "execution_count": null,
   "id": "38a3fec3",
   "metadata": {},
   "outputs": [],
   "source": [
    "#1. How do you distinguish between shutil.copy() and shutil.copytree()?\n",
    "\n",
    "shutil.copy() function can copy a single file\n",
    "shutil.copytree() function can copy entire folder"
   ]
  },
  {
   "cell_type": "code",
   "execution_count": null,
   "id": "0c6c4ddd",
   "metadata": {},
   "outputs": [],
   "source": [
    "#2. What function is used to rename files??\n",
    "\n",
    "shutil.move() function is used to rename files."
   ]
  },
  {
   "cell_type": "code",
   "execution_count": null,
   "id": "e67749d4",
   "metadata": {},
   "outputs": [],
   "source": [
    "#3. What is the difference between the delete functions in the send2trash and shutil modules?\n",
    "\n",
    "send2trash function move files or folders to the recycle bin\n",
    "shutil function delete files or folders permanently"
   ]
  },
  {
   "cell_type": "code",
   "execution_count": null,
   "id": "6854c821",
   "metadata": {},
   "outputs": [],
   "source": [
    "#4.ZipFile objects have a close() method just like File objects’ close() method. What ZipFile method is\n",
    "#  equivalent to File objects’ open() method?\n",
    "\n",
    "the zipfile.ZipFile() function is equivalent to the open() function, the first argument is the filename,\n",
    "and the second argument is the mode of open zip file."
   ]
  },
  {
   "cell_type": "code",
   "execution_count": null,
   "id": "b4ed2447",
   "metadata": {},
   "outputs": [],
   "source": [
    "#5. Create a programme that searches a folder tree for files with a certain file extension (such as .pdf\n",
    "#   or .jpg). Copy these files from whatever location they are in to a new folder.\n",
    "\n",
    "import os, shutil\n",
    "\n",
    "sourcePath = input('Enter the absolute path of the source folder: ')\n",
    "fileExtType = input('Enter the type of file to copy (such as .pdf or .jpg): ').lower()\n",
    "destPath = input('Enter the absolute path of the destination folder: ')\n",
    "\n",
    "for foldername, subfolders, filenames in os.walk(sourcePath):\n",
    "    for filename in filenames:\n",
    "        if filename.lower().endswith(fileExtType):\n",
    " #print(foldername + ‘\\\\’ + filename)\n",
    "            copySourcePath = os.path.join(foldername, filename)\n",
    " #print(copySourcePath)\n",
    "            shutil.copy(copySourcePath, destPath)\n",
    "else:\n",
    "    continue"
   ]
  }
 ],
 "metadata": {
  "kernelspec": {
   "display_name": "Python 3 (ipykernel)",
   "language": "python",
   "name": "python3"
  },
  "language_info": {
   "codemirror_mode": {
    "name": "ipython",
    "version": 3
   },
   "file_extension": ".py",
   "mimetype": "text/x-python",
   "name": "python",
   "nbconvert_exporter": "python",
   "pygments_lexer": "ipython3",
   "version": "3.9.13"
  }
 },
 "nbformat": 4,
 "nbformat_minor": 5
}
